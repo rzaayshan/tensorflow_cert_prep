{
  "cells": [
    {
      "cell_type": "code",
      "execution_count": null,
      "metadata": {
        "colab": {
          "base_uri": "https://localhost:8080/"
        },
        "id": "1BXRffNOOk3i",
        "outputId": "98c6d1b9-e8e4-4591-d7d6-4e4f930e870d"
      },
      "outputs": [
        {
          "name": "stdout",
          "output_type": "stream",
          "text": [
            "--2022-03-21 07:49:27--  https://storage.googleapis.com/ztm_tf_course/food_vision/10_food_classes_10_percent.zip\n",
            "Resolving storage.googleapis.com (storage.googleapis.com)... 74.125.199.128, 74.125.20.128, 74.125.195.128, ...\n",
            "Connecting to storage.googleapis.com (storage.googleapis.com)|74.125.199.128|:443... connected.\n",
            "HTTP request sent, awaiting response... 200 OK\n",
            "Length: 168546183 (161M) [application/zip]\n",
            "Saving to: ‘10_food_classes_10_percent.zip’\n",
            "\n",
            "10_food_classes_10_ 100%[===================>] 160.74M   155MB/s    in 1.0s    \n",
            "\n",
            "2022-03-21 07:49:29 (155 MB/s) - ‘10_food_classes_10_percent.zip’ saved [168546183/168546183]\n",
            "\n"
          ]
        }
      ],
      "source": [
        "import zipfile\n",
        "\n",
        "!wget https://storage.googleapis.com/ztm_tf_course/food_vision/10_food_classes_10_percent.zip\n",
        "\n",
        "zip_ref = zipfile.ZipFile('10_food_classes_10_percent.zip','r')\n",
        "zip_ref.extractall()\n",
        "zip_ref.close()"
      ]
    },
    {
      "cell_type": "code",
      "execution_count": null,
      "metadata": {
        "colab": {
          "base_uri": "https://localhost:8080/"
        },
        "id": "zxejdrqkPAE8",
        "outputId": "05591fad-f3c1-41e9-b922-ff8d53f7ae36"
      },
      "outputs": [
        {
          "name": "stdout",
          "output_type": "stream",
          "text": [
            "10_food_classes_10_percent: 2, 0\n",
            "10_food_classes_10_percent/train: 10, 0\n",
            "10_food_classes_10_percent/train/ramen: 0, 75\n",
            "10_food_classes_10_percent/train/pizza: 0, 75\n",
            "10_food_classes_10_percent/train/chicken_curry: 0, 75\n",
            "10_food_classes_10_percent/train/hamburger: 0, 75\n",
            "10_food_classes_10_percent/train/grilled_salmon: 0, 75\n",
            "10_food_classes_10_percent/train/steak: 0, 75\n",
            "10_food_classes_10_percent/train/ice_cream: 0, 75\n",
            "10_food_classes_10_percent/train/fried_rice: 0, 75\n",
            "10_food_classes_10_percent/train/sushi: 0, 75\n",
            "10_food_classes_10_percent/train/chicken_wings: 0, 75\n",
            "10_food_classes_10_percent/test: 10, 0\n",
            "10_food_classes_10_percent/test/ramen: 0, 250\n",
            "10_food_classes_10_percent/test/pizza: 0, 250\n",
            "10_food_classes_10_percent/test/chicken_curry: 0, 250\n",
            "10_food_classes_10_percent/test/hamburger: 0, 250\n",
            "10_food_classes_10_percent/test/grilled_salmon: 0, 250\n",
            "10_food_classes_10_percent/test/steak: 0, 250\n",
            "10_food_classes_10_percent/test/ice_cream: 0, 250\n",
            "10_food_classes_10_percent/test/fried_rice: 0, 250\n",
            "10_food_classes_10_percent/test/sushi: 0, 250\n",
            "10_food_classes_10_percent/test/chicken_wings: 0, 250\n"
          ]
        }
      ],
      "source": [
        "import os\n",
        "\n",
        "for dirpath,dirnames,filenames in os.walk('10_food_classes_10_percent'):\n",
        "  print(f'{dirpath}: {len(dirnames)}, {len(filenames)}')"
      ]
    },
    {
      "cell_type": "code",
      "execution_count": null,
      "metadata": {
        "colab": {
          "base_uri": "https://localhost:8080/"
        },
        "id": "ejMk6O8xPvik",
        "outputId": "4b6de96e-a210-4c78-9ed6-d6368dddab1b"
      },
      "outputs": [
        {
          "name": "stdout",
          "output_type": "stream",
          "text": [
            "Found 750 images belonging to 10 classes.\n",
            "Found 2500 images belonging to 10 classes.\n"
          ]
        }
      ],
      "source": [
        "from tensorflow.keras.preprocessing.image import ImageDataGenerator\n",
        "\n",
        "IMAGE_SHAPE=(224,224)\n",
        "BATCH_SIZE=32\n",
        "\n",
        "train_dir='10_food_classes_10_percent/train'\n",
        "test_dir='10_food_classes_10_percent/test'\n",
        "\n",
        "train_datagen=ImageDataGenerator(rescale=1./255)\n",
        "test_datagen=ImageDataGenerator(rescale=1./255)\n",
        "\n",
        "train_data = train_datagen.flow_from_directory(train_dir,\n",
        "                                               target_size=IMAGE_SHAPE,\n",
        "                                               batch_size=BATCH_SIZE,\n",
        "                                               class_mode='categorical')\n",
        "\n",
        "test_data = test_datagen.flow_from_directory(test_dir,\n",
        "                                               target_size=IMAGE_SHAPE,\n",
        "                                               batch_size=BATCH_SIZE,\n",
        "                                               class_mode='categorical')"
      ]
    },
    {
      "cell_type": "code",
      "execution_count": null,
      "metadata": {
        "id": "T7-bHfNDRHuh"
      },
      "outputs": [],
      "source": [
        "import datetime\n",
        "\n",
        "def create_tensorboard_callback(dir_name,experiment_name):\n",
        "  log_dir = dir_name+\"/\"+experiment_name+\"/\"+datetime.datetime.now().strftime(\"%Y%m%d-%H%M%S\")\n",
        "  print(f\"saving log files to {log_dir}\")\n",
        "  call_back = tf.keras.callbacks.TensorBoard(log_dir=log_dir)\n",
        "  return call_back"
      ]
    },
    {
      "cell_type": "code",
      "execution_count": null,
      "metadata": {
        "id": "jCu94JX5UMg0"
      },
      "outputs": [],
      "source": [
        "import tensorflow as tf\n",
        "import tensorflow_hub as hub\n",
        "from tensorflow.keras import layers"
      ]
    },
    {
      "cell_type": "code",
      "execution_count": null,
      "metadata": {
        "id": "QWOzP5jyWkoQ"
      },
      "outputs": [],
      "source": [
        "resnet_url = \"https://tfhub.dev/google/imagenet/resnet_v2_50/feature_vector/4\"\n",
        "\n",
        "efficientnet_url = \"https://tfhub.dev/tensorflow/efficientnet/b0/feature-vector/1\""
      ]
    },
    {
      "cell_type": "code",
      "execution_count": null,
      "metadata": {
        "id": "xYcaS3YqXAHB"
      },
      "outputs": [],
      "source": [
        "def create_model(model_url, num_classes=10):\n",
        "\n",
        "  feature_extractor_layer = hub.KerasLayer(model_url,\n",
        "                                           trainable=False,\n",
        "                                           name='feature_extraction_layer',\n",
        "                                           input_shape=IMAGE_SHAPE+(3,))\n",
        "  \n",
        "  model = tf.keras.models.Sequential([\n",
        "      feature_extractor_layer,\n",
        "      layers.Dense(num_classes, activation='softmax', name='output_layer')\n",
        "  ])\n",
        "\n",
        "  return model"
      ]
    },
    {
      "cell_type": "code",
      "execution_count": null,
      "metadata": {
        "id": "mDgodLm4YMnX"
      },
      "outputs": [],
      "source": [
        "resnet_model = create_model(resnet_url, train_data.num_classes)\n",
        "\n",
        "resnet_model.compile(optimizer = tf.keras.optimizers.Adam(),\n",
        "                     loss = 'categorical_crossentropy',\n",
        "                     metrics=['accuracy'])"
      ]
    },
    {
      "cell_type": "code",
      "execution_count": null,
      "metadata": {
        "colab": {
          "background_save": true,
          "base_uri": "https://localhost:8080/"
        },
        "id": "BLqPHQTlZDbz",
        "outputId": "12b7a76b-008d-4053-8075-f5fedefafba5"
      },
      "outputs": [
        {
          "name": "stdout",
          "output_type": "stream",
          "text": [
            "saving log files to tensor_hub/resnet50V2/20220321-074606\n",
            "Epoch 1/5\n",
            "24/24 [==============================] - 489s 21s/step - loss: 1.9149 - accuracy: 0.3373 - val_loss: 1.2193 - val_accuracy: 0.6152\n",
            "Epoch 2/5\n",
            "24/24 [==============================] - 483s 21s/step - loss: 0.8883 - accuracy: 0.7453 - val_loss: 0.8490 - val_accuracy: 0.7324\n",
            "Epoch 3/5\n",
            "24/24 [==============================] - 484s 21s/step - loss: 0.6300 - accuracy: 0.8240 - val_loss: 0.7514 - val_accuracy: 0.7628\n",
            "Epoch 4/5\n",
            "24/24 [==============================] - 448s 19s/step - loss: 0.4751 - accuracy: 0.8800 - val_loss: 0.7177 - val_accuracy: 0.7756\n",
            "Epoch 5/5\n",
            "24/24 [==============================] - 486s 21s/step - loss: 0.3781 - accuracy: 0.9107 - val_loss: 0.6669 - val_accuracy: 0.7864\n"
          ]
        }
      ],
      "source": [
        "resnet_history = resnet_model.fit(\n",
        "    train_data,\n",
        "    epochs=5,\n",
        "    steps_per_epoch=len(train_data),\n",
        "    validation_data=test_data,\n",
        "    validation_steps=len(test_data),\n",
        "    callbacks = [create_tensorboard_callback(dir_name=\"tensorflow_hub\", experiment_name=\"resnet50V2\")]\n",
        ")"
      ]
    },
    {
      "cell_type": "code",
      "execution_count": null,
      "metadata": {
        "id": "r4pYTMuqaP7v"
      },
      "outputs": [],
      "source": [
        "import matplotlib.pyplot as plt\n",
        "\n",
        "def plot_history(history):\n",
        "  acc = history.history['accuracy']\n",
        "  loss = history.history['loss']\n",
        "\n",
        "  val_acc = history.history['val_accuracy']\n",
        "  val_loss = history.history['val_loss']\n",
        "\n",
        "  epochs = range(len(history.history['accuracy']))\n",
        "\n",
        "  plt.plot(epochs, acc, label='training_acc')\n",
        "  plt.plot(epochs, val_acc, label='test_acc')\n",
        "  plt.title('Accuracy')\n",
        "  plt.xlabel('Epochs')\n",
        "  plt.legend()\n",
        "\n",
        "  plt.figure()\n",
        "  plt.plot(epochs, loss, label='training_loss')\n",
        "  plt.plot(epochs, val_acc, label='test_loss')\n",
        "  plt.title('Loss')\n",
        "  plt.xlabel('Epochs')\n",
        "  plt.legend()"
      ]
    },
    {
      "cell_type": "code",
      "execution_count": null,
      "metadata": {
        "colab": {
          "base_uri": "https://localhost:8080/",
          "height": 573
        },
        "id": "yY7v5PPsfTpw",
        "outputId": "97a77b3b-3946-404e-9fde-0c4ab6c9d58d"
      },
      "outputs": [
        {
          "data": {
            "image/png": "[encoded data removed]",
            "text/plain": [
              "<Figure size 432x288 with 1 Axes>"
            ]
          },
          "metadata": {},
          "output_type": "display_data"
        },
        {
          "data": {
            "image/png": "[encoded data removed]",
            "text/plain": [
              "<Figure size 432x288 with 1 Axes>"
            ]
          },
          "metadata": {},
          "output_type": "display_data"
        }
      ],
      "source": [
        "plot_history(resnet_history)"
      ]
    },
    {
      "cell_type": "code",
      "execution_count": null,
      "metadata": {
        "colab": {
          "base_uri": "https://localhost:8080/"
        },
        "id": "FN2J7U5JfZj9",
        "outputId": "46ac1a33-e50e-4be3-ae4d-2fb3a6c781f2"
      },
      "outputs": [
        {
          "name": "stdout",
          "output_type": "stream",
          "text": [
            "saving log files to tensorflow_hub/efficientnetB0/20220321-081228\n",
            "Epoch 1/5\n",
            "24/24 [==============================] - 25s 679ms/step - loss: 1.7840 - accuracy: 0.4747 - val_loss: 1.2553 - val_accuracy: 0.7644\n",
            "Epoch 2/5\n",
            "24/24 [==============================] - 15s 634ms/step - loss: 1.0304 - accuracy: 0.7973 - val_loss: 0.8397 - val_accuracy: 0.8344\n",
            "Epoch 3/5\n",
            "24/24 [==============================] - 15s 630ms/step - loss: 0.7347 - accuracy: 0.8440 - val_loss: 0.6770 - val_accuracy: 0.8520\n",
            "Epoch 4/5\n",
            "24/24 [==============================] - 15s 632ms/step - loss: 0.5936 - accuracy: 0.8733 - val_loss: 0.5989 - val_accuracy: 0.8588\n",
            "Epoch 5/5\n",
            "24/24 [==============================] - 15s 631ms/step - loss: 0.5016 - accuracy: 0.9013 - val_loss: 0.5467 - val_accuracy: 0.8640\n"
          ]
        }
      ],
      "source": [
        "efficient_model = create_model(efficientnet_url, train_data.num_classes)\n",
        "\n",
        "efficient_model.compile(optimizer = tf.keras.optimizers.Adam(),\n",
        "                    loss = 'categorical_crossentropy',\n",
        "                    metrics = ['accuracy'])\n",
        "\n",
        "efficient_history = efficient_model.fit(train_data,\n",
        "                                        epochs=5,\n",
        "                                        steps_per_epoch=len(train_data),\n",
        "                                        validation_data=test_data,\n",
        "                                        validation_steps=len(test_data),\n",
        "                                        callbacks = [create_tensorboard_callback(dir_name=\"tensorflow_hub\", \n",
        "                                                                                experiment_name=\"efficientnetB0\")])"
      ]
    },
    {
      "cell_type": "code",
      "execution_count": null,
      "metadata": {
        "colab": {
          "base_uri": "https://localhost:8080/",
          "height": 573
        },
        "id": "oG_ZgWeyhcBy",
        "outputId": "0f7ae11b-4d26-4553-bfa7-f0ace1a14df7"
      },
      "outputs": [
        {
          "data": {
            "image/png": "[encoded data removed]",
            "text/plain": [
              "<Figure size 432x288 with 1 Axes>"
            ]
          },
          "metadata": {},
          "output_type": "display_data"
        },
        {
          "data": {
            "image/png": "[encoded data removed]",
            "text/plain": [
              "<Figure size 432x288 with 1 Axes>"
            ]
          },
          "metadata": {},
          "output_type": "display_data"
        }
      ],
      "source": [
        "plot_history(efficient_history)"
      ]
    },
    {
      "cell_type": "code",
      "execution_count": null,
      "metadata": {
        "colab": {
          "base_uri": "https://localhost:8080/"
        },
        "id": "rWfm9KPGh5KX",
        "outputId": "3a7c71c0-ecb3-436e-cca9-a79f7c16c760"
      },
      "outputs": [
        {
          "name": "stdout",
          "output_type": "stream",
          "text": [
            "\n",
            "New experiment created. View your TensorBoard at: https://tensorboard.dev/experiment/Bd9gT8AuQ4CX7Y1zYJ1Ncg/\n",
            "\n",
            "\u001b[1m[2022-03-21T08:21:06]\u001b[0m Started scanning logdir.\n",
            "\u001b[1m[2022-03-21T08:21:09]\u001b[0m Total uploaded: 90 scalars, 0 tensors, 3 binary objects (9.5 MB)\n",
            "\u001b[1m[2022-03-21T08:21:09]\u001b[0m Done scanning logdir.\n",
            "\n",
            "\n",
            "Done. View your TensorBoard at https://tensorboard.dev/experiment/Bd9gT8AuQ4CX7Y1zYJ1Ncg/\n"
          ]
        }
      ],
      "source": [
        "!tensorboard dev upload --logdir ./tensorflow_hub/ \\\n",
        "  --name \"EfficientNetB0 vs. ResNet50V2\" \\\n",
        "  --description \"Comparing two different TF Hub feature extraction models architectures using 10% of training images\" \\\n",
        "  --one_shot"
      ]
    },
    {
      "cell_type": "code",
      "execution_count": null,
      "metadata": {
        "colab": {
          "base_uri": "https://localhost:8080/"
        },
        "id": "v2HfA805iqVh",
        "outputId": "32a258ea-1157-495b-d892-3b1b7b562f71"
      },
      "outputs": [
        {
          "name": "stdout",
          "output_type": "stream",
          "text": [
            "https://tensorboard.dev/experiment/Bd9gT8AuQ4CX7Y1zYJ1Ncg/\n",
            "\tName                 EfficientNetB0 vs. ResNet50V2\n",
            "\tDescription          Comparing two different TF Hub feature extraction models architectures using 10% of training images\n",
            "\tId                   Bd9gT8AuQ4CX7Y1zYJ1Ncg\n",
            "\tCreated              2022-03-21 08:21:06 (1 minute ago)\n",
            "\tUpdated              2022-03-21 08:21:09 (1 minute ago)\n",
            "\tRuns                 6\n",
            "\tTags                 5\n",
            "\tScalars              90\n",
            "\tTensor bytes         0\n",
            "\tBinary object bytes  9996704\n",
            "https://tensorboard.dev/experiment/sMUeP36qQpKhyU0V3y5KYA/\n",
            "\tName                 EfficientNetB0 vs. ResNet50V2\n",
            "\tDescription          Comparing two different TF Hub feature extraction models architectures using 10% of training images\n",
            "\tId                   sMUeP36qQpKhyU0V3y5KYA\n",
            "\tCreated              2022-03-21 08:16:44 (6 minutes ago)\n",
            "\tUpdated              2022-03-21 08:16:47 (6 minutes ago)\n",
            "\tRuns                 4\n",
            "\tTags                 5\n",
            "\tScalars              60\n",
            "\tTensor bytes         0\n",
            "\tBinary object bytes  8153130\n",
            "https://tensorboard.dev/experiment/e6snpHMrT4yQ7sJwV4DyaQ/\n",
            "\tName                 [No Name]\n",
            "\tDescription          [No Description]\n",
            "\tId                   e6snpHMrT4yQ7sJwV4DyaQ\n",
            "\tCreated              2022-03-21 08:15:13 (7 minutes ago)\n",
            "\tUpdated              2022-03-21 08:15:15 (7 minutes ago)\n",
            "\tRuns                 4\n",
            "\tTags                 5\n",
            "\tScalars              60\n",
            "\tTensor bytes         0\n",
            "\tBinary object bytes  8153130\n",
            "Total: 3 experiment(s)\n"
          ]
        }
      ],
      "source": [
        "!tensorboard dev list"
      ]
    },
    {
      "cell_type": "code",
      "execution_count": null,
      "metadata": {
        "colab": {
          "base_uri": "https://localhost:8080/"
        },
        "id": "P7Fy_zD-kk49",
        "outputId": "54345abf-0db7-4da7-eaa1-0547d77c2f0f"
      },
      "outputs": [
        {
          "name": "stdout",
          "output_type": "stream",
          "text": [
            "Deleted experiment e6snpHMrT4yQ7sJwV4DyaQ.\n"
          ]
        }
      ],
      "source": [
        "!tensorboard dev delete --experiment_id e6snpHMrT4yQ7sJwV4DyaQ"
      ]
    },
    {
      "cell_type": "code",
      "execution_count": null,
      "metadata": {
        "id": "Xt8LyAl5k_Wa"
      },
      "outputs": [],
      "source": [
        ""
      ]
    }
  ],
  "metadata": {
    "accelerator": "GPU",
    "colab": {
      "name": "transfer_learning.ipynb",
      "provenance": []
    },
    "kernelspec": {
      "display_name": "Python 3",
      "name": "python3"
    },
    "language_info": {
      "name": "python"
    }
  },
  "nbformat": 4,
  "nbformat_minor": 0
}