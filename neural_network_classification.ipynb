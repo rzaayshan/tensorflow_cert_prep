{
  "nbformat": 4,
  "nbformat_minor": 0,
  "metadata": {
    "colab": {
      "name": "neural_network_classification.ipynb",
      "provenance": [],
      "collapsed_sections": []
    },
    "kernelspec": {
      "name": "python3",
      "display_name": "Python 3"
    },
    "language_info": {
      "name": "python"
    },
    "accelerator": "GPU"
  },
  "cells": [
    {
      "cell_type": "code",
      "execution_count": null,
      "metadata": {
        "id": "_ZJtkPBy-gVK"
      },
      "outputs": [],
      "source": [
        "import tensorflow as tf"
      ]
    },
    {
      "cell_type": "code",
      "source": [
        "from sklearn.datasets import make_circles\n",
        "\n",
        "n_samples = 1000\n",
        "\n",
        "X, y = make_circles(n_samples,\n",
        "                    noise=0.03,\n",
        "                    random_state=42)"
      ],
      "metadata": {
        "id": "YAx4A6Ut-yMs"
      },
      "execution_count": null,
      "outputs": []
    },
    {
      "cell_type": "code",
      "source": [
        "X"
      ],
      "metadata": {
        "colab": {
          "base_uri": "https://localhost:8080/"
        },
        "id": "awIVxcdk_SAg",
        "outputId": "25072faf-9d5b-4ea8-ca19-afaeb2d49707"
      },
      "execution_count": null,
      "outputs": [
        {
          "output_type": "execute_result",
          "data": {
            "text/plain": [
              "array([[ 0.75424625,  0.23148074],\n",
              "       [-0.75615888,  0.15325888],\n",
              "       [-0.81539193,  0.17328203],\n",
              "       ...,\n",
              "       [-0.13690036, -0.81001183],\n",
              "       [ 0.67036156, -0.76750154],\n",
              "       [ 0.28105665,  0.96382443]])"
            ]
          },
          "metadata": {},
          "execution_count": 3
        }
      ]
    },
    {
      "cell_type": "code",
      "source": [
        "y[:10]"
      ],
      "metadata": {
        "colab": {
          "base_uri": "https://localhost:8080/"
        },
        "id": "dUF8cplx_UVG",
        "outputId": "4fe8eb4f-5b18-42a1-8f64-ac09b6c1ac1d"
      },
      "execution_count": null,
      "outputs": [
        {
          "output_type": "execute_result",
          "data": {
            "text/plain": [
              "array([1, 1, 1, 1, 0, 1, 1, 1, 1, 0])"
            ]
          },
          "metadata": {},
          "execution_count": 4
        }
      ]
    },
    {
      "cell_type": "code",
      "source": [
        "import pandas as pd\n",
        "circles = pd.DataFrame({\"X0\":X[:,0], \"X1\":X[:,1], \"label\":y})\n",
        "circles.head()"
      ],
      "metadata": {
        "colab": {
          "base_uri": "https://localhost:8080/",
          "height": 206
        },
        "id": "SVCSluVu_WKQ",
        "outputId": "d5ad124f-93e7-402b-a3cc-e26fae43c3b6"
      },
      "execution_count": null,
      "outputs": [
        {
          "output_type": "execute_result",
          "data": {
            "text/html": [
              "\n",
              "  <div id=\"df-abb5fc7c-2d69-4425-b235-73a5e910d279\">\n",
              "    <div class=\"colab-df-container\">\n",
              "      <div>\n",
              "<style scoped>\n",
              "    .dataframe tbody tr th:only-of-type {\n",
              "        vertical-align: middle;\n",
              "    }\n",
              "\n",
              "    .dataframe tbody tr th {\n",
              "        vertical-align: top;\n",
              "    }\n",
              "\n",
              "    .dataframe thead th {\n",
              "        text-align: right;\n",
              "    }\n",
              "</style>\n",
              "<table border=\"1\" class=\"dataframe\">\n",
              "  <thead>\n",
              "    <tr style=\"text-align: right;\">\n",
              "      <th></th>\n",
              "      <th>X0</th>\n",
              "      <th>X1</th>\n",
              "      <th>label</th>\n",
              "    </tr>\n",
              "  </thead>\n",
              "  <tbody>\n",
              "    <tr>\n",
              "      <th>0</th>\n",
              "      <td>0.754246</td>\n",
              "      <td>0.231481</td>\n",
              "      <td>1</td>\n",
              "    </tr>\n",
              "    <tr>\n",
              "      <th>1</th>\n",
              "      <td>-0.756159</td>\n",
              "      <td>0.153259</td>\n",
              "      <td>1</td>\n",
              "    </tr>\n",
              "    <tr>\n",
              "      <th>2</th>\n",
              "      <td>-0.815392</td>\n",
              "      <td>0.173282</td>\n",
              "      <td>1</td>\n",
              "    </tr>\n",
              "    <tr>\n",
              "      <th>3</th>\n",
              "      <td>-0.393731</td>\n",
              "      <td>0.692883</td>\n",
              "      <td>1</td>\n",
              "    </tr>\n",
              "    <tr>\n",
              "      <th>4</th>\n",
              "      <td>0.442208</td>\n",
              "      <td>-0.896723</td>\n",
              "      <td>0</td>\n",
              "    </tr>\n",
              "  </tbody>\n",
              "</table>\n",
              "</div>\n",
              "      <button class=\"colab-df-convert\" onclick=\"convertToInteractive('df-abb5fc7c-2d69-4425-b235-73a5e910d279')\"\n",
              "              title=\"Convert this dataframe to an interactive table.\"\n",
              "              style=\"display:none;\">\n",
              "        \n",
              "  <svg xmlns=\"http://www.w3.org/2000/svg\" height=\"24px\"viewBox=\"0 0 24 24\"\n",
              "       width=\"24px\">\n",
              "    <path d=\"M0 0h24v24H0V0z\" fill=\"none\"/>\n",
              "    <path d=\"M18.56 5.44l.94 2.06.94-2.06 2.06-.94-2.06-.94-.94-2.06-.94 2.06-2.06.94zm-11 1L8.5 8.5l.94-2.06 2.06-.94-2.06-.94L8.5 2.5l-.94 2.06-2.06.94zm10 10l.94 2.06.94-2.06 2.06-.94-2.06-.94-.94-2.06-.94 2.06-2.06.94z\"/><path d=\"M17.41 7.96l-1.37-1.37c-.4-.4-.92-.59-1.43-.59-.52 0-1.04.2-1.43.59L10.3 9.45l-7.72 7.72c-.78.78-.78 2.05 0 2.83L4 21.41c.39.39.9.59 1.41.59.51 0 1.02-.2 1.41-.59l7.78-7.78 2.81-2.81c.8-.78.8-2.07 0-2.86zM5.41 20L4 18.59l7.72-7.72 1.47 1.35L5.41 20z\"/>\n",
              "  </svg>\n",
              "      </button>\n",
              "      \n",
              "  <style>\n",
              "    .colab-df-container {\n",
              "      display:flex;\n",
              "      flex-wrap:wrap;\n",
              "      gap: 12px;\n",
              "    }\n",
              "\n",
              "    .colab-df-convert {\n",
              "      background-color: #E8F0FE;\n",
              "      border: none;\n",
              "      border-radius: 50%;\n",
              "      cursor: pointer;\n",
              "      display: none;\n",
              "      fill: #1967D2;\n",
              "      height: 32px;\n",
              "      padding: 0 0 0 0;\n",
              "      width: 32px;\n",
              "    }\n",
              "\n",
              "    .colab-df-convert:hover {\n",
              "      background-color: #E2EBFA;\n",
              "      box-shadow: 0px 1px 2px rgba(60, 64, 67, 0.3), 0px 1px 3px 1px rgba(60, 64, 67, 0.15);\n",
              "      fill: #174EA6;\n",
              "    }\n",
              "\n",
              "    [theme=dark] .colab-df-convert {\n",
              "      background-color: #3B4455;\n",
              "      fill: #D2E3FC;\n",
              "    }\n",
              "\n",
              "    [theme=dark] .colab-df-convert:hover {\n",
              "      background-color: #434B5C;\n",
              "      box-shadow: 0px 1px 3px 1px rgba(0, 0, 0, 0.15);\n",
              "      filter: drop-shadow(0px 1px 2px rgba(0, 0, 0, 0.3));\n",
              "      fill: #FFFFFF;\n",
              "    }\n",
              "  </style>\n",
              "\n",
              "      <script>\n",
              "        const buttonEl =\n",
              "          document.querySelector('#df-abb5fc7c-2d69-4425-b235-73a5e910d279 button.colab-df-convert');\n",
              "        buttonEl.style.display =\n",
              "          google.colab.kernel.accessAllowed ? 'block' : 'none';\n",
              "\n",
              "        async function convertToInteractive(key) {\n",
              "          const element = document.querySelector('#df-abb5fc7c-2d69-4425-b235-73a5e910d279');\n",
              "          const dataTable =\n",
              "            await google.colab.kernel.invokeFunction('convertToInteractive',\n",
              "                                                     [key], {});\n",
              "          if (!dataTable) return;\n",
              "\n",
              "          const docLinkHtml = 'Like what you see? Visit the ' +\n",
              "            '<a target=\"_blank\" href=https://colab.research.google.com/notebooks/data_table.ipynb>data table notebook</a>'\n",
              "            + ' to learn more about interactive tables.';\n",
              "          element.innerHTML = '';\n",
              "          dataTable['output_type'] = 'display_data';\n",
              "          await google.colab.output.renderOutput(dataTable, element);\n",
              "          const docLink = document.createElement('div');\n",
              "          docLink.innerHTML = docLinkHtml;\n",
              "          element.appendChild(docLink);\n",
              "        }\n",
              "      </script>\n",
              "    </div>\n",
              "  </div>\n",
              "  "
            ],
            "text/plain": [
              "         X0        X1  label\n",
              "0  0.754246  0.231481      1\n",
              "1 -0.756159  0.153259      1\n",
              "2 -0.815392  0.173282      1\n",
              "3 -0.393731  0.692883      1\n",
              "4  0.442208 -0.896723      0"
            ]
          },
          "metadata": {},
          "execution_count": 5
        }
      ]
    },
    {
      "cell_type": "code",
      "source": [
        "circles.label.value_counts()"
      ],
      "metadata": {
        "colab": {
          "base_uri": "https://localhost:8080/"
        },
        "id": "6Axo7sE2_8cJ",
        "outputId": "396fb2e2-eb90-496c-a3c7-123b73b13192"
      },
      "execution_count": null,
      "outputs": [
        {
          "output_type": "execute_result",
          "data": {
            "text/plain": [
              "1    500\n",
              "0    500\n",
              "Name: label, dtype: int64"
            ]
          },
          "metadata": {},
          "execution_count": 6
        }
      ]
    },
    {
      "cell_type": "code",
      "source": [
        "import matplotlib.pyplot as plt\n",
        "plt.scatter(X[:,0], X[:,1], c=y, cmap=plt.cm.RdYlBu);"
      ],
      "metadata": {
        "colab": {
          "base_uri": "https://localhost:8080/",
          "height": 265
        },
        "id": "ztBHt2niAFL7",
        "outputId": "3db12af0-1fda-44e0-a68b-d200dd47ae6e"
      },
      "execution_count": null,
      "outputs": [
        {
          "output_type": "display_data",
          "data": {
            "image/png": "[encoded data removed]",
            "text/plain": [
              "<Figure size 432x288 with 1 Axes>"
            ]
          },
          "metadata": {
            "needs_background": "light"
          }
        }
      ]
    },
    {
      "cell_type": "code",
      "source": [
        "X.shape, y.shape"
      ],
      "metadata": {
        "colab": {
          "base_uri": "https://localhost:8080/"
        },
        "id": "Pi1Iy_NzAfcz",
        "outputId": "38f8f64d-b682-49df-86ab-c8ef16eee683"
      },
      "execution_count": null,
      "outputs": [
        {
          "output_type": "execute_result",
          "data": {
            "text/plain": [
              "((1000, 2), (1000,))"
            ]
          },
          "metadata": {},
          "execution_count": 8
        }
      ]
    },
    {
      "cell_type": "code",
      "source": [
        "len(X), len(y)"
      ],
      "metadata": {
        "colab": {
          "base_uri": "https://localhost:8080/"
        },
        "id": "1iUOQoWKBMYc",
        "outputId": "390fc12b-00e9-41f1-d828-69c7f5ed147d"
      },
      "execution_count": null,
      "outputs": [
        {
          "output_type": "execute_result",
          "data": {
            "text/plain": [
              "(1000, 1000)"
            ]
          },
          "metadata": {},
          "execution_count": 9
        }
      ]
    },
    {
      "cell_type": "code",
      "source": [
        "X[0], y[0]"
      ],
      "metadata": {
        "colab": {
          "base_uri": "https://localhost:8080/"
        },
        "id": "Ytcdacp4BTL5",
        "outputId": "4346db95-41b9-4d63-bff4-1a24fd42cb58"
      },
      "execution_count": null,
      "outputs": [
        {
          "output_type": "execute_result",
          "data": {
            "text/plain": [
              "(array([0.75424625, 0.23148074]), 1)"
            ]
          },
          "metadata": {},
          "execution_count": 10
        }
      ]
    },
    {
      "cell_type": "code",
      "source": [
        "tf.random.set_seed(42)\n",
        "\n",
        "model_1 = tf.keras.Sequential([\n",
        "              tf.keras.layers.Dense(1)\n",
        "])\n",
        "\n",
        "model_1.compile(loss = tf.keras.losses.BinaryCrossentropy(),\n",
        "              optimizer = tf.keras.optimizers.SGD(),\n",
        "              metrics = ['accuracy'])\n",
        "\n",
        "model_1.fit(X,y,epochs=5)"
      ],
      "metadata": {
        "colab": {
          "base_uri": "https://localhost:8080/"
        },
        "id": "q4996Gf2BZMB",
        "outputId": "b1afe763-a582-4c4f-d3fc-eb69f2fdc1f6"
      },
      "execution_count": null,
      "outputs": [
        {
          "output_type": "stream",
          "name": "stdout",
          "text": [
            "Epoch 1/5\n",
            "32/32 [==============================] - 6s 8ms/step - loss: 2.8544 - accuracy: 0.4600\n",
            "Epoch 2/5\n",
            "32/32 [==============================] - 0s 7ms/step - loss: 0.7131 - accuracy: 0.5430\n",
            "Epoch 3/5\n",
            "32/32 [==============================] - 0s 7ms/step - loss: 0.6973 - accuracy: 0.5090\n",
            "Epoch 4/5\n",
            "32/32 [==============================] - 0s 7ms/step - loss: 0.6950 - accuracy: 0.5010\n",
            "Epoch 5/5\n",
            "32/32 [==============================] - 0s 7ms/step - loss: 0.6942 - accuracy: 0.4830\n"
          ]
        },
        {
          "output_type": "execute_result",
          "data": {
            "text/plain": [
              "<keras.callbacks.History at 0x7f16e472c250>"
            ]
          },
          "metadata": {},
          "execution_count": 11
        }
      ]
    },
    {
      "cell_type": "code",
      "source": [
        "model_1.fit(X, y, epochs=200, verbose=0)\n",
        "model_1.evaluate(X,y)"
      ],
      "metadata": {
        "colab": {
          "base_uri": "https://localhost:8080/"
        },
        "id": "GTveKxQTC4Z9",
        "outputId": "b7d1c8f5-9c44-4abf-92a6-6cd549ce9d2b"
      },
      "execution_count": null,
      "outputs": [
        {
          "output_type": "stream",
          "name": "stdout",
          "text": [
            "32/32 [==============================] - 0s 3ms/step - loss: 0.6935 - accuracy: 0.5000\n"
          ]
        },
        {
          "output_type": "execute_result",
          "data": {
            "text/plain": [
              "[0.6934829950332642, 0.5]"
            ]
          },
          "metadata": {},
          "execution_count": 12
        }
      ]
    },
    {
      "cell_type": "code",
      "source": [
        "tf.random.set_seed(42)\n",
        "\n",
        "model_2 = tf.keras.Sequential([\n",
        "            tf.keras.layers.Dense(1),\n",
        "            tf.keras.layers.Dense(1)                   \n",
        "])\n",
        "\n",
        "model_2.compile(loss=tf.keras.losses.BinaryCrossentropy(),\n",
        "            optimizer=tf.keras.optimizers.SGD(),\n",
        "            metrics=['accuracy'])\n",
        "\n",
        "model_2.fit(X, y, epochs=100, verbose=0)\n",
        "\n"
      ],
      "metadata": {
        "colab": {
          "base_uri": "https://localhost:8080/"
        },
        "id": "Ue49JyuzD21O",
        "outputId": "11778f15-bf73-449f-af51-9ccb0226f449"
      },
      "execution_count": null,
      "outputs": [
        {
          "output_type": "execute_result",
          "data": {
            "text/plain": [
              "<keras.callbacks.History at 0x7f1669daba50>"
            ]
          },
          "metadata": {},
          "execution_count": 13
        }
      ]
    },
    {
      "cell_type": "code",
      "source": [
        "model_2.evaluate(X,y)"
      ],
      "metadata": {
        "colab": {
          "base_uri": "https://localhost:8080/"
        },
        "id": "nqgUwASeETkQ",
        "outputId": "7c7e6e27-097c-47e6-f731-e2df9a61872c"
      },
      "execution_count": null,
      "outputs": [
        {
          "output_type": "stream",
          "name": "stdout",
          "text": [
            "32/32 [==============================] - 0s 4ms/step - loss: 0.6933 - accuracy: 0.5000\n"
          ]
        },
        {
          "output_type": "execute_result",
          "data": {
            "text/plain": [
              "[0.6933314800262451, 0.5]"
            ]
          },
          "metadata": {},
          "execution_count": 14
        }
      ]
    },
    {
      "cell_type": "code",
      "source": [
        "tf.random.set_seed(42)\n",
        "\n",
        "model_3 = tf.keras.Sequential([\n",
        "           tf.keras.layers.Dense(100),\n",
        "           tf.keras.layers.Dense(10),\n",
        "           tf.keras.layers.Dense(1)                    \n",
        "])\n",
        "\n",
        "model_3.compile(loss=tf.keras.losses.BinaryCrossentropy(),\n",
        "                optimizer=tf.keras.optimizers.Adam(),\n",
        "                metrics=['accuracy'])\n",
        "\n",
        "model_3.fit(X, y, epochs=100, verbose=0)"
      ],
      "metadata": {
        "colab": {
          "base_uri": "https://localhost:8080/"
        },
        "id": "HGzRtd-nEWlb",
        "outputId": "71a432ab-7c64-4477-cc71-0d5cae5a8a6f"
      },
      "execution_count": null,
      "outputs": [
        {
          "output_type": "execute_result",
          "data": {
            "text/plain": [
              "<keras.callbacks.History at 0x7f166c1e0950>"
            ]
          },
          "metadata": {},
          "execution_count": 15
        }
      ]
    },
    {
      "cell_type": "code",
      "source": [
        "import numpy as np\n",
        "\n",
        "def plot_decision_boundary(model, X, y):\n",
        "\n",
        "    x_min, x_max = X[:,0].min()-0.1, X[:,0].max()+0.1\n",
        "    y_min, y_max = X[:,1].min()-0.1, X[:,1].max()+0.1\n",
        "    xx, yy = np.meshgrid(\n",
        "        np.linspace(x_min, x_max, 100),\n",
        "        np.linspace(y_min, y_max, 100)\n",
        "    )\n",
        "\n",
        "    x_in = np.c_[xx.ravel(), yy.ravel()]\n",
        "\n",
        "    y_pred = model.predict(x_in)\n",
        "\n",
        "    if len(y_pred[0])>1:\n",
        "      print(\"doing multiclass classification...\")\n",
        "      y_pred = np.argmax(y_pred, axis=1).reshape(xx.shape)\n",
        "    else:\n",
        "      print(\"doing binary classification...\")\n",
        "      y_pred = np.round(y_pred).reshape(xx.shape)   \n",
        "\n",
        "    plt.contourf(xx, yy, y_pred, cmap=plt.cm.RdYlBu, alpha=0.7)\n",
        "    plt.scatter(X[:,0],X[:,1],c=y,s=40,cmap=plt.cm.RdYlBu)\n",
        "    plt.xlim(xx.min(), xx.max())\n",
        "    plt.ylim(yy.min(), yy.max())   "
      ],
      "metadata": {
        "id": "JOeBQsPAHA4g"
      },
      "execution_count": null,
      "outputs": []
    },
    {
      "cell_type": "code",
      "source": [
        "plot_decision_boundary(model_3, X, y)"
      ],
      "metadata": {
        "colab": {
          "base_uri": "https://localhost:8080/",
          "height": 282
        },
        "id": "4cpyOLMKKfMw",
        "outputId": "0407827e-884a-4a35-f2a5-e4b3841f7fc7"
      },
      "execution_count": null,
      "outputs": [
        {
          "output_type": "stream",
          "name": "stdout",
          "text": [
            "doing binary classification...\n"
          ]
        },
        {
          "output_type": "display_data",
          "data": {
            "image/png": "[encoded data removed]",
            "text/plain": [
              "<Figure size 432x288 with 1 Axes>"
            ]
          },
          "metadata": {
            "needs_background": "light"
          }
        }
      ]
    },
    {
      "cell_type": "code",
      "source": [
        "tf.random.set_seed(42)\n",
        "\n",
        "X_regression = np.arange(0,1000,5)\n",
        "y_regression = np.arange(100,1100,5)\n",
        "\n",
        "X_reg_train = X_regression[:150]\n",
        "X_reg_test = X_regression[150:]\n",
        "y_reg_train = y_regression[:150]\n",
        "y_reg_test = y_regression[150:]\n",
        "\n",
        "model_3.fit(X_reg_train, y_reg_train, epochs=100)"
      ],
      "metadata": {
        "id": "4iiq8vBBLDSU",
        "colab": {
          "base_uri": "https://localhost:8080/",
          "height": 938
        },
        "outputId": "535cc389-844f-4bc4-b892-bebc66bcf21f"
      },
      "execution_count": null,
      "outputs": [
        {
          "output_type": "stream",
          "name": "stdout",
          "text": [
            "Epoch 1/100\n",
            "WARNING:tensorflow:Model was constructed with shape (None, 2) for input KerasTensor(type_spec=TensorSpec(shape=(None, 2), dtype=tf.float32, name='dense_3_input'), name='dense_3_input', description=\"created by layer 'dense_3_input'\"), but it was called on an input with incompatible shape (None,).\n"
          ]
        },
        {
          "output_type": "error",
          "ename": "ValueError",
          "evalue": "ignored",
          "traceback": [
            "\u001b[0;31m---------------------------------------------------------------------------\u001b[0m",
            "\u001b[0;31mValueError\u001b[0m                                Traceback (most recent call last)",
            "\u001b[0;32m<ipython-input-19-cdfc81da46d3>\u001b[0m in \u001b[0;36m<module>\u001b[0;34m()\u001b[0m\n\u001b[1;32m      9\u001b[0m \u001b[0my_reg_test\u001b[0m \u001b[0;34m=\u001b[0m \u001b[0my_regression\u001b[0m\u001b[0;34m[\u001b[0m\u001b[0;36m150\u001b[0m\u001b[0;34m:\u001b[0m\u001b[0;34m]\u001b[0m\u001b[0;34m\u001b[0m\u001b[0;34m\u001b[0m\u001b[0m\n\u001b[1;32m     10\u001b[0m \u001b[0;34m\u001b[0m\u001b[0m\n\u001b[0;32m---> 11\u001b[0;31m \u001b[0mmodel_3\u001b[0m\u001b[0;34m.\u001b[0m\u001b[0mfit\u001b[0m\u001b[0;34m(\u001b[0m\u001b[0mX_reg_train\u001b[0m\u001b[0;34m,\u001b[0m \u001b[0my_reg_train\u001b[0m\u001b[0;34m,\u001b[0m \u001b[0mepochs\u001b[0m\u001b[0;34m=\u001b[0m\u001b[0;36m100\u001b[0m\u001b[0;34m)\u001b[0m\u001b[0;34m\u001b[0m\u001b[0;34m\u001b[0m\u001b[0m\n\u001b[0m",
            "\u001b[0;32m/usr/local/lib/python3.7/dist-packages/keras/utils/traceback_utils.py\u001b[0m in \u001b[0;36merror_handler\u001b[0;34m(*args, **kwargs)\u001b[0m\n\u001b[1;32m     65\u001b[0m     \u001b[0;32mexcept\u001b[0m \u001b[0mException\u001b[0m \u001b[0;32mas\u001b[0m \u001b[0me\u001b[0m\u001b[0;34m:\u001b[0m  \u001b[0;31m# pylint: disable=broad-except\u001b[0m\u001b[0;34m\u001b[0m\u001b[0;34m\u001b[0m\u001b[0m\n\u001b[1;32m     66\u001b[0m       \u001b[0mfiltered_tb\u001b[0m \u001b[0;34m=\u001b[0m \u001b[0m_process_traceback_frames\u001b[0m\u001b[0;34m(\u001b[0m\u001b[0me\u001b[0m\u001b[0;34m.\u001b[0m\u001b[0m__traceback__\u001b[0m\u001b[0;34m)\u001b[0m\u001b[0;34m\u001b[0m\u001b[0;34m\u001b[0m\u001b[0m\n\u001b[0;32m---> 67\u001b[0;31m       \u001b[0;32mraise\u001b[0m \u001b[0me\u001b[0m\u001b[0;34m.\u001b[0m\u001b[0mwith_traceback\u001b[0m\u001b[0;34m(\u001b[0m\u001b[0mfiltered_tb\u001b[0m\u001b[0;34m)\u001b[0m \u001b[0;32mfrom\u001b[0m \u001b[0;32mNone\u001b[0m\u001b[0;34m\u001b[0m\u001b[0;34m\u001b[0m\u001b[0m\n\u001b[0m\u001b[1;32m     68\u001b[0m     \u001b[0;32mfinally\u001b[0m\u001b[0;34m:\u001b[0m\u001b[0;34m\u001b[0m\u001b[0;34m\u001b[0m\u001b[0m\n\u001b[1;32m     69\u001b[0m       \u001b[0;32mdel\u001b[0m \u001b[0mfiltered_tb\u001b[0m\u001b[0;34m\u001b[0m\u001b[0;34m\u001b[0m\u001b[0m\n",
            "\u001b[0;32m/usr/local/lib/python3.7/dist-packages/tensorflow/python/framework/func_graph.py\u001b[0m in \u001b[0;36mautograph_handler\u001b[0;34m(*args, **kwargs)\u001b[0m\n\u001b[1;32m   1145\u001b[0m           \u001b[0;32mexcept\u001b[0m \u001b[0mException\u001b[0m \u001b[0;32mas\u001b[0m \u001b[0me\u001b[0m\u001b[0;34m:\u001b[0m  \u001b[0;31m# pylint:disable=broad-except\u001b[0m\u001b[0;34m\u001b[0m\u001b[0;34m\u001b[0m\u001b[0m\n\u001b[1;32m   1146\u001b[0m             \u001b[0;32mif\u001b[0m \u001b[0mhasattr\u001b[0m\u001b[0;34m(\u001b[0m\u001b[0me\u001b[0m\u001b[0;34m,\u001b[0m \u001b[0;34m\"ag_error_metadata\"\u001b[0m\u001b[0;34m)\u001b[0m\u001b[0;34m:\u001b[0m\u001b[0;34m\u001b[0m\u001b[0;34m\u001b[0m\u001b[0m\n\u001b[0;32m-> 1147\u001b[0;31m               \u001b[0;32mraise\u001b[0m \u001b[0me\u001b[0m\u001b[0;34m.\u001b[0m\u001b[0mag_error_metadata\u001b[0m\u001b[0;34m.\u001b[0m\u001b[0mto_exception\u001b[0m\u001b[0;34m(\u001b[0m\u001b[0me\u001b[0m\u001b[0;34m)\u001b[0m\u001b[0;34m\u001b[0m\u001b[0;34m\u001b[0m\u001b[0m\n\u001b[0m\u001b[1;32m   1148\u001b[0m             \u001b[0;32melse\u001b[0m\u001b[0;34m:\u001b[0m\u001b[0;34m\u001b[0m\u001b[0;34m\u001b[0m\u001b[0m\n\u001b[1;32m   1149\u001b[0m               \u001b[0;32mraise\u001b[0m\u001b[0;34m\u001b[0m\u001b[0;34m\u001b[0m\u001b[0m\n",
            "\u001b[0;31mValueError\u001b[0m: in user code:\n\n    File \"/usr/local/lib/python3.7/dist-packages/keras/engine/training.py\", line 1021, in train_function  *\n        return step_function(self, iterator)\n    File \"/usr/local/lib/python3.7/dist-packages/keras/engine/training.py\", line 1010, in step_function  **\n        outputs = model.distribute_strategy.run(run_step, args=(data,))\n    File \"/usr/local/lib/python3.7/dist-packages/keras/engine/training.py\", line 1000, in run_step  **\n        outputs = model.train_step(data)\n    File \"/usr/local/lib/python3.7/dist-packages/keras/engine/training.py\", line 859, in train_step\n        y_pred = self(x, training=True)\n    File \"/usr/local/lib/python3.7/dist-packages/keras/utils/traceback_utils.py\", line 67, in error_handler\n        raise e.with_traceback(filtered_tb) from None\n    File \"/usr/local/lib/python3.7/dist-packages/keras/engine/input_spec.py\", line 228, in assert_input_compatibility\n        raise ValueError(f'Input {input_index} of layer \"{layer_name}\" '\n\n    ValueError: Exception encountered when calling layer \"sequential_2\" (type Sequential).\n    \n    Input 0 of layer \"dense_3\" is incompatible with the layer: expected min_ndim=2, found ndim=1. Full shape received: (None,)\n    \n    Call arguments received:\n      • inputs=tf.Tensor(shape=(None,), dtype=int64)\n      • training=True\n      • mask=None\n"
          ]
        }
      ]
    },
    {
      "cell_type": "code",
      "source": [
        "tf.random.set_seed(42)\n",
        "\n",
        "model_3 = tf.keras.Sequential([\n",
        "                       tf.keras.layers.Dense(100, input_shape=[1]),\n",
        "                       tf.keras.layers.Dense(10),\n",
        "                       tf.keras.layers.Dense(1)        \n",
        "])\n",
        "\n",
        "model_3.compile(loss = tf.keras.losses.mae,\n",
        "                optimizer = tf.keras.optimizers.Adam(),\n",
        "                metrics = ['mae'])\n",
        "\n",
        "model_3.fit(X_reg_train, y_reg_train, epochs=100)"
      ],
      "metadata": {
        "colab": {
          "base_uri": "https://localhost:8080/"
        },
        "id": "X2BKI_UH80e4",
        "outputId": "e496a365-c329-4571-b106-2d8dca47a98b"
      },
      "execution_count": null,
      "outputs": [
        {
          "output_type": "stream",
          "name": "stdout",
          "text": [
            "Epoch 1/100\n",
            "5/5 [==============================] - 2s 9ms/step - loss: 248.2148 - mae: 248.2148\n",
            "Epoch 2/100\n",
            "5/5 [==============================] - 0s 8ms/step - loss: 138.8992 - mae: 138.8992\n",
            "Epoch 3/100\n",
            "5/5 [==============================] - 0s 9ms/step - loss: 53.1035 - mae: 53.1035\n",
            "Epoch 4/100\n",
            "5/5 [==============================] - 0s 15ms/step - loss: 73.5183 - mae: 73.5183\n",
            "Epoch 5/100\n",
            "5/5 [==============================] - 0s 9ms/step - loss: 71.2370 - mae: 71.2370\n",
            "Epoch 6/100\n",
            "5/5 [==============================] - 0s 18ms/step - loss: 47.0045 - mae: 47.0045\n",
            "Epoch 7/100\n",
            "5/5 [==============================] - 0s 18ms/step - loss: 45.9375 - mae: 45.9375\n",
            "Epoch 8/100\n",
            "5/5 [==============================] - 0s 11ms/step - loss: 42.3635 - mae: 42.3635\n",
            "Epoch 9/100\n",
            "5/5 [==============================] - 0s 12ms/step - loss: 43.6835 - mae: 43.6835\n",
            "Epoch 10/100\n",
            "5/5 [==============================] - 0s 8ms/step - loss: 42.6201 - mae: 42.6201\n",
            "Epoch 11/100\n",
            "5/5 [==============================] - 0s 25ms/step - loss: 42.4795 - mae: 42.4795\n",
            "Epoch 12/100\n",
            "5/5 [==============================] - 0s 16ms/step - loss: 41.5534 - mae: 41.5534\n",
            "Epoch 13/100\n",
            "5/5 [==============================] - 0s 8ms/step - loss: 42.0975 - mae: 42.0975\n",
            "Epoch 14/100\n",
            "5/5 [==============================] - 0s 9ms/step - loss: 41.8650 - mae: 41.8650\n",
            "Epoch 15/100\n",
            "5/5 [==============================] - 0s 7ms/step - loss: 41.5341 - mae: 41.5341\n",
            "Epoch 16/100\n",
            "5/5 [==============================] - 0s 7ms/step - loss: 41.4026 - mae: 41.4026\n",
            "Epoch 17/100\n",
            "5/5 [==============================] - 0s 6ms/step - loss: 41.6888 - mae: 41.6888\n",
            "Epoch 18/100\n",
            "5/5 [==============================] - 0s 7ms/step - loss: 41.6138 - mae: 41.6138\n",
            "Epoch 19/100\n",
            "5/5 [==============================] - 0s 6ms/step - loss: 41.2795 - mae: 41.2795\n",
            "Epoch 20/100\n",
            "5/5 [==============================] - 0s 9ms/step - loss: 41.1947 - mae: 41.1947\n",
            "Epoch 21/100\n",
            "5/5 [==============================] - 0s 15ms/step - loss: 41.2131 - mae: 41.2131\n",
            "Epoch 22/100\n",
            "5/5 [==============================] - 0s 12ms/step - loss: 41.0892 - mae: 41.0892\n",
            "Epoch 23/100\n",
            "5/5 [==============================] - 0s 7ms/step - loss: 41.2018 - mae: 41.2018\n",
            "Epoch 24/100\n",
            "5/5 [==============================] - 0s 7ms/step - loss: 40.9990 - mae: 40.9990\n",
            "Epoch 25/100\n",
            "5/5 [==============================] - 0s 7ms/step - loss: 41.0131 - mae: 41.0131\n",
            "Epoch 26/100\n",
            "5/5 [==============================] - 0s 10ms/step - loss: 41.0653 - mae: 41.0653\n",
            "Epoch 27/100\n",
            "5/5 [==============================] - 0s 9ms/step - loss: 40.8764 - mae: 40.8764\n",
            "Epoch 28/100\n",
            "5/5 [==============================] - 0s 9ms/step - loss: 41.0546 - mae: 41.0546\n",
            "Epoch 29/100\n",
            "5/5 [==============================] - 0s 7ms/step - loss: 41.0479 - mae: 41.0479\n",
            "Epoch 30/100\n",
            "5/5 [==============================] - 0s 8ms/step - loss: 40.8806 - mae: 40.8806\n",
            "Epoch 31/100\n",
            "5/5 [==============================] - 0s 8ms/step - loss: 41.2698 - mae: 41.2698\n",
            "Epoch 32/100\n",
            "5/5 [==============================] - 0s 16ms/step - loss: 40.9948 - mae: 40.9948\n",
            "Epoch 33/100\n",
            "5/5 [==============================] - 0s 9ms/step - loss: 41.0759 - mae: 41.0759\n",
            "Epoch 34/100\n",
            "5/5 [==============================] - 0s 9ms/step - loss: 41.2473 - mae: 41.2473\n",
            "Epoch 35/100\n",
            "5/5 [==============================] - 0s 8ms/step - loss: 40.6101 - mae: 40.6101\n",
            "Epoch 36/100\n",
            "5/5 [==============================] - 0s 18ms/step - loss: 41.1092 - mae: 41.1092\n",
            "Epoch 37/100\n",
            "5/5 [==============================] - 0s 9ms/step - loss: 40.8193 - mae: 40.8193\n",
            "Epoch 38/100\n",
            "5/5 [==============================] - 0s 10ms/step - loss: 40.2486 - mae: 40.2486\n",
            "Epoch 39/100\n",
            "5/5 [==============================] - 0s 7ms/step - loss: 41.0623 - mae: 41.0623\n",
            "Epoch 40/100\n",
            "5/5 [==============================] - 0s 7ms/step - loss: 40.5311 - mae: 40.5311\n",
            "Epoch 41/100\n",
            "5/5 [==============================] - 0s 7ms/step - loss: 40.5499 - mae: 40.5499\n",
            "Epoch 42/100\n",
            "5/5 [==============================] - 0s 11ms/step - loss: 40.4321 - mae: 40.4321\n",
            "Epoch 43/100\n",
            "5/5 [==============================] - 0s 8ms/step - loss: 40.5367 - mae: 40.5367\n",
            "Epoch 44/100\n",
            "5/5 [==============================] - 0s 13ms/step - loss: 40.2488 - mae: 40.2488\n",
            "Epoch 45/100\n",
            "5/5 [==============================] - 0s 9ms/step - loss: 40.5150 - mae: 40.5150\n",
            "Epoch 46/100\n",
            "5/5 [==============================] - 0s 10ms/step - loss: 40.3703 - mae: 40.3703\n",
            "Epoch 47/100\n",
            "5/5 [==============================] - 0s 8ms/step - loss: 40.4771 - mae: 40.4771\n",
            "Epoch 48/100\n",
            "5/5 [==============================] - 0s 9ms/step - loss: 40.1531 - mae: 40.1531\n",
            "Epoch 49/100\n",
            "5/5 [==============================] - 0s 11ms/step - loss: 40.7291 - mae: 40.7291\n",
            "Epoch 50/100\n",
            "5/5 [==============================] - 0s 8ms/step - loss: 40.1536 - mae: 40.1536\n",
            "Epoch 51/100\n",
            "5/5 [==============================] - 0s 11ms/step - loss: 40.2710 - mae: 40.2710\n",
            "Epoch 52/100\n",
            "5/5 [==============================] - 0s 8ms/step - loss: 40.6574 - mae: 40.6574\n",
            "Epoch 53/100\n",
            "5/5 [==============================] - 0s 10ms/step - loss: 40.6571 - mae: 40.6571\n",
            "Epoch 54/100\n",
            "5/5 [==============================] - 0s 9ms/step - loss: 40.6893 - mae: 40.6893\n",
            "Epoch 55/100\n",
            "5/5 [==============================] - 0s 9ms/step - loss: 41.2775 - mae: 41.2775\n",
            "Epoch 56/100\n",
            "5/5 [==============================] - 0s 7ms/step - loss: 41.8514 - mae: 41.8514\n",
            "Epoch 57/100\n",
            "5/5 [==============================] - 0s 9ms/step - loss: 40.7904 - mae: 40.7904\n",
            "Epoch 58/100\n",
            "5/5 [==============================] - 0s 7ms/step - loss: 40.3131 - mae: 40.3131\n",
            "Epoch 59/100\n",
            "5/5 [==============================] - 0s 8ms/step - loss: 40.7194 - mae: 40.7194\n",
            "Epoch 60/100\n",
            "5/5 [==============================] - 0s 8ms/step - loss: 40.1479 - mae: 40.1479\n",
            "Epoch 61/100\n",
            "5/5 [==============================] - 0s 11ms/step - loss: 40.1119 - mae: 40.1119\n",
            "Epoch 62/100\n",
            "5/5 [==============================] - 0s 8ms/step - loss: 40.7796 - mae: 40.7796\n",
            "Epoch 63/100\n",
            "5/5 [==============================] - 0s 7ms/step - loss: 39.7243 - mae: 39.7243\n",
            "Epoch 64/100\n",
            "5/5 [==============================] - 0s 7ms/step - loss: 40.1467 - mae: 40.1467\n",
            "Epoch 65/100\n",
            "5/5 [==============================] - 0s 7ms/step - loss: 39.6886 - mae: 39.6886\n",
            "Epoch 66/100\n",
            "5/5 [==============================] - 0s 9ms/step - loss: 40.2841 - mae: 40.2841\n",
            "Epoch 67/100\n",
            "5/5 [==============================] - 0s 7ms/step - loss: 39.5541 - mae: 39.5541\n",
            "Epoch 68/100\n",
            "5/5 [==============================] - 0s 7ms/step - loss: 39.7377 - mae: 39.7377\n",
            "Epoch 69/100\n",
            "5/5 [==============================] - 0s 6ms/step - loss: 39.9787 - mae: 39.9787\n",
            "Epoch 70/100\n",
            "5/5 [==============================] - 0s 7ms/step - loss: 40.0014 - mae: 40.0014\n",
            "Epoch 71/100\n",
            "5/5 [==============================] - 0s 6ms/step - loss: 40.0915 - mae: 40.0915\n",
            "Epoch 72/100\n",
            "5/5 [==============================] - 0s 7ms/step - loss: 39.2548 - mae: 39.2548\n",
            "Epoch 73/100\n",
            "5/5 [==============================] - 0s 11ms/step - loss: 39.6826 - mae: 39.6826\n",
            "Epoch 74/100\n",
            "5/5 [==============================] - 0s 9ms/step - loss: 39.5375 - mae: 39.5375\n",
            "Epoch 75/100\n",
            "5/5 [==============================] - 0s 9ms/step - loss: 39.6264 - mae: 39.6264\n",
            "Epoch 76/100\n",
            "5/5 [==============================] - 0s 6ms/step - loss: 39.3110 - mae: 39.3110\n",
            "Epoch 77/100\n",
            "5/5 [==============================] - 0s 7ms/step - loss: 39.1600 - mae: 39.1600\n",
            "Epoch 78/100\n",
            "5/5 [==============================] - 0s 11ms/step - loss: 39.7547 - mae: 39.7547\n",
            "Epoch 79/100\n",
            "5/5 [==============================] - 0s 6ms/step - loss: 39.2543 - mae: 39.2543\n",
            "Epoch 80/100\n",
            "5/5 [==============================] - 0s 6ms/step - loss: 38.6969 - mae: 38.6969\n",
            "Epoch 81/100\n",
            "5/5 [==============================] - 0s 7ms/step - loss: 39.5438 - mae: 39.5438\n",
            "Epoch 82/100\n",
            "5/5 [==============================] - 0s 8ms/step - loss: 39.8689 - mae: 39.8689\n",
            "Epoch 83/100\n",
            "5/5 [==============================] - 0s 6ms/step - loss: 39.1692 - mae: 39.1692\n",
            "Epoch 84/100\n",
            "5/5 [==============================] - 0s 6ms/step - loss: 38.8840 - mae: 38.8840\n",
            "Epoch 85/100\n",
            "5/5 [==============================] - 0s 16ms/step - loss: 38.8887 - mae: 38.8887\n",
            "Epoch 86/100\n",
            "5/5 [==============================] - 0s 8ms/step - loss: 38.6616 - mae: 38.6616\n",
            "Epoch 87/100\n",
            "5/5 [==============================] - 0s 7ms/step - loss: 38.8397 - mae: 38.8397\n",
            "Epoch 88/100\n",
            "5/5 [==============================] - 0s 7ms/step - loss: 38.6604 - mae: 38.6604\n",
            "Epoch 89/100\n",
            "5/5 [==============================] - 0s 6ms/step - loss: 38.7558 - mae: 38.7558\n",
            "Epoch 90/100\n",
            "5/5 [==============================] - 0s 7ms/step - loss: 38.5443 - mae: 38.5443\n",
            "Epoch 91/100\n",
            "5/5 [==============================] - 0s 9ms/step - loss: 38.3247 - mae: 38.3247\n",
            "Epoch 92/100\n",
            "5/5 [==============================] - 0s 7ms/step - loss: 38.8431 - mae: 38.8431\n",
            "Epoch 93/100\n",
            "5/5 [==============================] - 0s 12ms/step - loss: 39.1135 - mae: 39.1135\n",
            "Epoch 94/100\n",
            "5/5 [==============================] - 0s 17ms/step - loss: 38.1463 - mae: 38.1463\n",
            "Epoch 95/100\n",
            "5/5 [==============================] - 0s 9ms/step - loss: 38.3999 - mae: 38.3999\n",
            "Epoch 96/100\n",
            "5/5 [==============================] - 0s 9ms/step - loss: 38.5598 - mae: 38.5598\n",
            "Epoch 97/100\n",
            "5/5 [==============================] - 0s 9ms/step - loss: 38.1038 - mae: 38.1038\n",
            "Epoch 98/100\n",
            "5/5 [==============================] - 0s 6ms/step - loss: 39.0081 - mae: 39.0081\n",
            "Epoch 99/100\n",
            "5/5 [==============================] - 0s 9ms/step - loss: 38.3056 - mae: 38.3056\n",
            "Epoch 100/100\n",
            "5/5 [==============================] - 0s 10ms/step - loss: 37.9977 - mae: 37.9977\n"
          ]
        },
        {
          "output_type": "execute_result",
          "data": {
            "text/plain": [
              "<keras.callbacks.History at 0x7f166bbca190>"
            ]
          },
          "metadata": {},
          "execution_count": 20
        }
      ]
    },
    {
      "cell_type": "code",
      "source": [
        "y_reg_preds = model_3.predict(X_reg_test)\n",
        "\n",
        "plt.figure(figsize=(10,7))\n",
        "plt.scatter(X_reg_train, y_reg_train, c='b', label='Training data')\n",
        "plt.scatter(X_reg_test, y_reg_test, c='g', label='Test data')\n",
        "plt.scatter(X_reg_test, y_reg_preds.squeeze(), c='r', label='Prediction data')\n",
        "\n",
        "plt.legend()"
      ],
      "metadata": {
        "colab": {
          "base_uri": "https://localhost:8080/",
          "height": 446
        },
        "id": "INh589on-nxZ",
        "outputId": "a60b0d09-7814-40b7-e4ac-25dc828ef732"
      },
      "execution_count": null,
      "outputs": [
        {
          "output_type": "execute_result",
          "data": {
            "text/plain": [
              "<matplotlib.legend.Legend at 0x7f16e47e5090>"
            ]
          },
          "metadata": {},
          "execution_count": 21
        },
        {
          "output_type": "display_data",
          "data": {
            "image/png": "[encoded data removed]",
            "text/plain": [
              "<Figure size 720x504 with 1 Axes>"
            ]
          },
          "metadata": {
            "needs_background": "light"
          }
        }
      ]
    },
    {
      "cell_type": "code",
      "source": [
        "tf.random.set_seed(42)\n",
        "\n",
        "model_4 = tf.keras.Sequential([\n",
        "                    tf.keras.layers.Dense(1, activation=tf.keras.activations.linear),\n",
        "                    tf.keras.layers.Dense(1)           \n",
        "])\n",
        "\n",
        "model_4.compile(loss = tf.keras.losses.binary_crossentropy,\n",
        "                optimizer = tf.keras.optimizers.Adam(lr=0.001),\n",
        "                metrics = ['accuracy'])\n",
        "\n",
        "history = model_4.fit(X,y,epochs=100)"
      ],
      "metadata": {
        "colab": {
          "base_uri": "https://localhost:8080/"
        },
        "id": "0pFzQx-6AvJR",
        "outputId": "5573722f-e09b-40b0-f78f-d5e4867873f4"
      },
      "execution_count": null,
      "outputs": [
        {
          "output_type": "stream",
          "name": "stdout",
          "text": [
            "Epoch 1/100\n"
          ]
        },
        {
          "output_type": "stream",
          "name": "stderr",
          "text": [
            "/usr/local/lib/python3.7/dist-packages/keras/optimizer_v2/adam.py:105: UserWarning: The `lr` argument is deprecated, use `learning_rate` instead.\n",
            "  super(Adam, self).__init__(name, **kwargs)\n"
          ]
        },
        {
          "output_type": "stream",
          "name": "stdout",
          "text": [
            "32/32 [==============================] - 1s 5ms/step - loss: 4.2380 - accuracy: 0.5000\n",
            "Epoch 2/100\n",
            "32/32 [==============================] - 0s 4ms/step - loss: 4.0223 - accuracy: 0.5000\n",
            "Epoch 3/100\n",
            "32/32 [==============================] - 0s 4ms/step - loss: 3.8296 - accuracy: 0.5000\n",
            "Epoch 4/100\n",
            "32/32 [==============================] - 0s 5ms/step - loss: 3.7653 - accuracy: 0.5000\n",
            "Epoch 5/100\n",
            "32/32 [==============================] - 0s 4ms/step - loss: 3.6467 - accuracy: 0.5000\n",
            "Epoch 6/100\n",
            "32/32 [==============================] - 0s 4ms/step - loss: 3.4973 - accuracy: 0.5000\n",
            "Epoch 7/100\n",
            "32/32 [==============================] - 0s 5ms/step - loss: 3.3844 - accuracy: 0.5000\n",
            "Epoch 8/100\n",
            "32/32 [==============================] - 0s 4ms/step - loss: 3.2352 - accuracy: 0.5000\n",
            "Epoch 9/100\n",
            "32/32 [==============================] - 0s 4ms/step - loss: 2.9892 - accuracy: 0.5000\n",
            "Epoch 10/100\n",
            "32/32 [==============================] - 0s 5ms/step - loss: 2.6029 - accuracy: 0.5000\n",
            "Epoch 11/100\n",
            "32/32 [==============================] - 0s 4ms/step - loss: 2.2701 - accuracy: 0.5000\n",
            "Epoch 12/100\n",
            "32/32 [==============================] - 0s 4ms/step - loss: 1.2898 - accuracy: 0.5000\n",
            "Epoch 13/100\n",
            "32/32 [==============================] - 0s 4ms/step - loss: 1.0046 - accuracy: 0.5000\n",
            "Epoch 14/100\n",
            "32/32 [==============================] - 0s 4ms/step - loss: 0.9746 - accuracy: 0.5000\n",
            "Epoch 15/100\n",
            "32/32 [==============================] - 0s 4ms/step - loss: 0.9535 - accuracy: 0.5000\n",
            "Epoch 16/100\n",
            "32/32 [==============================] - 0s 4ms/step - loss: 0.9364 - accuracy: 0.5000\n",
            "Epoch 17/100\n",
            "32/32 [==============================] - 0s 4ms/step - loss: 0.9212 - accuracy: 0.5000\n",
            "Epoch 18/100\n",
            "32/32 [==============================] - 0s 5ms/step - loss: 0.9077 - accuracy: 0.5000\n",
            "Epoch 19/100\n",
            "32/32 [==============================] - 0s 4ms/step - loss: 0.8959 - accuracy: 0.5000\n",
            "Epoch 20/100\n",
            "32/32 [==============================] - 0s 4ms/step - loss: 0.8847 - accuracy: 0.5000\n",
            "Epoch 21/100\n",
            "32/32 [==============================] - 0s 4ms/step - loss: 0.8748 - accuracy: 0.5000\n",
            "Epoch 22/100\n",
            "32/32 [==============================] - 0s 4ms/step - loss: 0.8653 - accuracy: 0.5000\n",
            "Epoch 23/100\n",
            "32/32 [==============================] - 0s 5ms/step - loss: 0.8568 - accuracy: 0.5000\n",
            "Epoch 24/100\n",
            "32/32 [==============================] - 0s 5ms/step - loss: 0.8489 - accuracy: 0.5000\n",
            "Epoch 25/100\n",
            "32/32 [==============================] - 0s 4ms/step - loss: 0.8416 - accuracy: 0.5000\n",
            "Epoch 26/100\n",
            "32/32 [==============================] - 0s 5ms/step - loss: 0.8343 - accuracy: 0.4980\n",
            "Epoch 27/100\n",
            "32/32 [==============================] - 0s 4ms/step - loss: 0.8277 - accuracy: 0.4930\n",
            "Epoch 28/100\n",
            "32/32 [==============================] - 0s 4ms/step - loss: 0.8213 - accuracy: 0.4820\n",
            "Epoch 29/100\n",
            "32/32 [==============================] - 0s 4ms/step - loss: 0.8153 - accuracy: 0.4730\n",
            "Epoch 30/100\n",
            "32/32 [==============================] - 0s 4ms/step - loss: 0.8096 - accuracy: 0.4640\n",
            "Epoch 31/100\n",
            "32/32 [==============================] - 0s 5ms/step - loss: 0.8043 - accuracy: 0.4540\n",
            "Epoch 32/100\n",
            "32/32 [==============================] - 0s 5ms/step - loss: 0.7989 - accuracy: 0.4430\n",
            "Epoch 33/100\n",
            "32/32 [==============================] - 0s 4ms/step - loss: 0.7942 - accuracy: 0.4370\n",
            "Epoch 34/100\n",
            "32/32 [==============================] - 0s 4ms/step - loss: 0.7897 - accuracy: 0.4300\n",
            "Epoch 35/100\n",
            "32/32 [==============================] - 0s 5ms/step - loss: 0.7853 - accuracy: 0.4250\n",
            "Epoch 36/100\n",
            "32/32 [==============================] - 0s 4ms/step - loss: 0.7811 - accuracy: 0.4190\n",
            "Epoch 37/100\n",
            "32/32 [==============================] - 0s 5ms/step - loss: 0.7772 - accuracy: 0.4150\n",
            "Epoch 38/100\n",
            "32/32 [==============================] - 0s 4ms/step - loss: 0.7735 - accuracy: 0.4140\n",
            "Epoch 39/100\n",
            "32/32 [==============================] - 0s 5ms/step - loss: 0.7699 - accuracy: 0.4150\n",
            "Epoch 40/100\n",
            "32/32 [==============================] - 0s 4ms/step - loss: 0.7665 - accuracy: 0.4190\n",
            "Epoch 41/100\n",
            "32/32 [==============================] - 0s 4ms/step - loss: 0.7632 - accuracy: 0.4330\n",
            "Epoch 42/100\n",
            "32/32 [==============================] - 0s 5ms/step - loss: 0.7600 - accuracy: 0.4450\n",
            "Epoch 43/100\n",
            "32/32 [==============================] - 0s 5ms/step - loss: 0.7569 - accuracy: 0.4530\n",
            "Epoch 44/100\n",
            "32/32 [==============================] - 0s 5ms/step - loss: 0.7541 - accuracy: 0.4570\n",
            "Epoch 45/100\n",
            "32/32 [==============================] - 0s 5ms/step - loss: 0.7514 - accuracy: 0.4540\n",
            "Epoch 46/100\n",
            "32/32 [==============================] - 0s 4ms/step - loss: 0.7488 - accuracy: 0.4570\n",
            "Epoch 47/100\n",
            "32/32 [==============================] - 0s 5ms/step - loss: 0.7465 - accuracy: 0.4580\n",
            "Epoch 48/100\n",
            "32/32 [==============================] - 0s 4ms/step - loss: 0.7441 - accuracy: 0.4640\n",
            "Epoch 49/100\n",
            "32/32 [==============================] - 0s 4ms/step - loss: 0.7419 - accuracy: 0.4630\n",
            "Epoch 50/100\n",
            "32/32 [==============================] - 0s 5ms/step - loss: 0.7397 - accuracy: 0.4630\n",
            "Epoch 51/100\n",
            "32/32 [==============================] - 0s 4ms/step - loss: 0.7376 - accuracy: 0.4620\n",
            "Epoch 52/100\n",
            "32/32 [==============================] - 0s 4ms/step - loss: 0.7358 - accuracy: 0.4650\n",
            "Epoch 53/100\n",
            "32/32 [==============================] - 0s 4ms/step - loss: 0.7339 - accuracy: 0.4690\n",
            "Epoch 54/100\n",
            "32/32 [==============================] - 0s 4ms/step - loss: 0.7322 - accuracy: 0.4700\n",
            "Epoch 55/100\n",
            "32/32 [==============================] - 0s 4ms/step - loss: 0.7305 - accuracy: 0.4730\n",
            "Epoch 56/100\n",
            "32/32 [==============================] - 0s 4ms/step - loss: 0.7288 - accuracy: 0.4720\n",
            "Epoch 57/100\n",
            "32/32 [==============================] - 0s 5ms/step - loss: 0.7273 - accuracy: 0.4760\n",
            "Epoch 58/100\n",
            "32/32 [==============================] - 0s 4ms/step - loss: 0.7258 - accuracy: 0.4780\n",
            "Epoch 59/100\n",
            "32/32 [==============================] - 0s 4ms/step - loss: 0.7245 - accuracy: 0.4780\n",
            "Epoch 60/100\n",
            "32/32 [==============================] - 0s 5ms/step - loss: 0.7232 - accuracy: 0.4770\n",
            "Epoch 61/100\n",
            "32/32 [==============================] - 0s 4ms/step - loss: 0.7220 - accuracy: 0.4790\n",
            "Epoch 62/100\n",
            "32/32 [==============================] - 0s 5ms/step - loss: 0.7209 - accuracy: 0.4800\n",
            "Epoch 63/100\n",
            "32/32 [==============================] - 0s 5ms/step - loss: 0.7197 - accuracy: 0.4810\n",
            "Epoch 64/100\n",
            "32/32 [==============================] - 0s 5ms/step - loss: 0.7187 - accuracy: 0.4820\n",
            "Epoch 65/100\n",
            "32/32 [==============================] - 0s 4ms/step - loss: 0.7177 - accuracy: 0.4810\n",
            "Epoch 66/100\n",
            "32/32 [==============================] - 0s 4ms/step - loss: 0.7167 - accuracy: 0.4850\n",
            "Epoch 67/100\n",
            "32/32 [==============================] - 0s 4ms/step - loss: 0.7157 - accuracy: 0.4870\n",
            "Epoch 68/100\n",
            "32/32 [==============================] - 0s 5ms/step - loss: 0.7149 - accuracy: 0.4890\n",
            "Epoch 69/100\n",
            "32/32 [==============================] - 0s 4ms/step - loss: 0.7139 - accuracy: 0.4880\n",
            "Epoch 70/100\n",
            "32/32 [==============================] - 0s 5ms/step - loss: 0.7131 - accuracy: 0.4900\n",
            "Epoch 71/100\n",
            "32/32 [==============================] - 0s 5ms/step - loss: 0.7123 - accuracy: 0.4930\n",
            "Epoch 72/100\n",
            "32/32 [==============================] - 0s 5ms/step - loss: 0.7115 - accuracy: 0.4920\n",
            "Epoch 73/100\n",
            "32/32 [==============================] - 0s 5ms/step - loss: 0.7108 - accuracy: 0.4910\n",
            "Epoch 74/100\n",
            "32/32 [==============================] - 0s 5ms/step - loss: 0.7100 - accuracy: 0.4890\n",
            "Epoch 75/100\n",
            "32/32 [==============================] - 0s 5ms/step - loss: 0.7094 - accuracy: 0.4860\n",
            "Epoch 76/100\n",
            "32/32 [==============================] - 0s 5ms/step - loss: 0.7087 - accuracy: 0.4860\n",
            "Epoch 77/100\n",
            "32/32 [==============================] - 0s 5ms/step - loss: 0.7081 - accuracy: 0.4890\n",
            "Epoch 78/100\n",
            "32/32 [==============================] - 0s 4ms/step - loss: 0.7075 - accuracy: 0.4890\n",
            "Epoch 79/100\n",
            "32/32 [==============================] - 0s 4ms/step - loss: 0.7069 - accuracy: 0.4880\n",
            "Epoch 80/100\n",
            "32/32 [==============================] - 0s 4ms/step - loss: 0.7063 - accuracy: 0.4880\n",
            "Epoch 81/100\n",
            "32/32 [==============================] - 0s 4ms/step - loss: 0.7058 - accuracy: 0.4880\n",
            "Epoch 82/100\n",
            "32/32 [==============================] - 0s 4ms/step - loss: 0.7053 - accuracy: 0.4890\n",
            "Epoch 83/100\n",
            "32/32 [==============================] - 0s 5ms/step - loss: 0.7049 - accuracy: 0.4880\n",
            "Epoch 84/100\n",
            "32/32 [==============================] - 0s 4ms/step - loss: 0.7043 - accuracy: 0.4900\n",
            "Epoch 85/100\n",
            "32/32 [==============================] - 0s 4ms/step - loss: 0.7039 - accuracy: 0.4890\n",
            "Epoch 86/100\n",
            "32/32 [==============================] - 0s 5ms/step - loss: 0.7035 - accuracy: 0.4880\n",
            "Epoch 87/100\n",
            "32/32 [==============================] - 0s 4ms/step - loss: 0.7031 - accuracy: 0.4900\n",
            "Epoch 88/100\n",
            "32/32 [==============================] - 0s 4ms/step - loss: 0.7026 - accuracy: 0.4900\n",
            "Epoch 89/100\n",
            "32/32 [==============================] - 0s 5ms/step - loss: 0.7023 - accuracy: 0.4890\n",
            "Epoch 90/100\n",
            "32/32 [==============================] - 0s 4ms/step - loss: 0.7019 - accuracy: 0.4910\n",
            "Epoch 91/100\n",
            "32/32 [==============================] - 0s 4ms/step - loss: 0.7015 - accuracy: 0.4890\n",
            "Epoch 92/100\n",
            "32/32 [==============================] - 0s 4ms/step - loss: 0.7012 - accuracy: 0.4910\n",
            "Epoch 93/100\n",
            "32/32 [==============================] - 0s 4ms/step - loss: 0.7009 - accuracy: 0.4910\n",
            "Epoch 94/100\n",
            "32/32 [==============================] - 0s 5ms/step - loss: 0.7006 - accuracy: 0.4930\n",
            "Epoch 95/100\n",
            "32/32 [==============================] - 0s 4ms/step - loss: 0.7002 - accuracy: 0.4920\n",
            "Epoch 96/100\n",
            "32/32 [==============================] - 0s 5ms/step - loss: 0.7000 - accuracy: 0.4940\n",
            "Epoch 97/100\n",
            "32/32 [==============================] - 0s 4ms/step - loss: 0.6997 - accuracy: 0.4940\n",
            "Epoch 98/100\n",
            "32/32 [==============================] - 0s 4ms/step - loss: 0.6994 - accuracy: 0.4940\n",
            "Epoch 99/100\n",
            "32/32 [==============================] - 0s 4ms/step - loss: 0.6991 - accuracy: 0.4980\n",
            "Epoch 100/100\n",
            "32/32 [==============================] - 0s 4ms/step - loss: 0.6988 - accuracy: 0.4980\n"
          ]
        }
      ]
    },
    {
      "cell_type": "code",
      "source": [
        "plot_decision_boundary(model_4,X,y)"
      ],
      "metadata": {
        "colab": {
          "base_uri": "https://localhost:8080/",
          "height": 282
        },
        "id": "3TLO6dqbEqeC",
        "outputId": "4e7dcb32-965d-4bc6-d546-a2d6cd2800bd"
      },
      "execution_count": null,
      "outputs": [
        {
          "output_type": "stream",
          "name": "stdout",
          "text": [
            "doing binary classification...\n"
          ]
        },
        {
          "output_type": "display_data",
          "data": {
            "image/png": "[encoded data removed]",
            "text/plain": [
              "<Figure size 432x288 with 1 Axes>"
            ]
          },
          "metadata": {
            "needs_background": "light"
          }
        }
      ]
    },
    {
      "cell_type": "code",
      "source": [
        "tf.random.set_seed(42)\n",
        "\n",
        "model_5 = tf.keras.Sequential([\n",
        "                 tf.keras.layers.Dense(1, activation=tf.keras.activations.relu),\n",
        "                 tf.keras.layers.Dense(1)              \n",
        "])\n",
        "\n",
        "model_5.compile(loss=tf.keras.losses.binary_crossentropy,\n",
        "                optimizer=tf.keras.optimizers.Adam(),\n",
        "                metrics=['accuracy'])\n",
        "\n",
        "history = model_5.fit(X,y,epochs=100)"
      ],
      "metadata": {
        "colab": {
          "base_uri": "https://localhost:8080/"
        },
        "id": "IWdL2L4KFODD",
        "outputId": "0db3e1ac-7361-4255-9438-dfc1ee7af635"
      },
      "execution_count": null,
      "outputs": [
        {
          "output_type": "stream",
          "name": "stdout",
          "text": [
            "Epoch 1/100\n",
            "32/32 [==============================] - 1s 5ms/step - loss: 1.8377 - accuracy: 0.5000\n",
            "Epoch 2/100\n",
            "32/32 [==============================] - 0s 4ms/step - loss: 1.4449 - accuracy: 0.5000\n",
            "Epoch 3/100\n",
            "32/32 [==============================] - 0s 5ms/step - loss: 1.3410 - accuracy: 0.5000\n",
            "Epoch 4/100\n",
            "32/32 [==============================] - 0s 4ms/step - loss: 1.2678 - accuracy: 0.4770\n",
            "Epoch 5/100\n",
            "32/32 [==============================] - 0s 5ms/step - loss: 1.2116 - accuracy: 0.4390\n",
            "Epoch 6/100\n",
            "32/32 [==============================] - 0s 5ms/step - loss: 1.1664 - accuracy: 0.4180\n",
            "Epoch 7/100\n",
            "32/32 [==============================] - 0s 4ms/step - loss: 1.1294 - accuracy: 0.4250\n",
            "Epoch 8/100\n",
            "32/32 [==============================] - 0s 5ms/step - loss: 1.0970 - accuracy: 0.4420\n",
            "Epoch 9/100\n",
            "32/32 [==============================] - 0s 5ms/step - loss: 1.0670 - accuracy: 0.4540\n",
            "Epoch 10/100\n",
            "32/32 [==============================] - 0s 4ms/step - loss: 1.0406 - accuracy: 0.4550\n",
            "Epoch 11/100\n",
            "32/32 [==============================] - 0s 4ms/step - loss: 1.0147 - accuracy: 0.4600\n",
            "Epoch 12/100\n",
            "32/32 [==============================] - 0s 4ms/step - loss: 0.9872 - accuracy: 0.4630\n",
            "Epoch 13/100\n",
            "32/32 [==============================] - 0s 4ms/step - loss: 0.9579 - accuracy: 0.4620\n",
            "Epoch 14/100\n",
            "32/32 [==============================] - 0s 5ms/step - loss: 0.9201 - accuracy: 0.4660\n",
            "Epoch 15/100\n",
            "32/32 [==============================] - 0s 4ms/step - loss: 0.8514 - accuracy: 0.4660\n",
            "Epoch 16/100\n",
            "32/32 [==============================] - 0s 4ms/step - loss: 0.7888 - accuracy: 0.4720\n",
            "Epoch 17/100\n",
            "32/32 [==============================] - 0s 5ms/step - loss: 0.7580 - accuracy: 0.4740\n",
            "Epoch 18/100\n",
            "32/32 [==============================] - 0s 4ms/step - loss: 0.7392 - accuracy: 0.4760\n",
            "Epoch 19/100\n",
            "32/32 [==============================] - 0s 5ms/step - loss: 0.7273 - accuracy: 0.4850\n",
            "Epoch 20/100\n",
            "32/32 [==============================] - 0s 4ms/step - loss: 0.7180 - accuracy: 0.4870\n",
            "Epoch 21/100\n",
            "32/32 [==============================] - 0s 5ms/step - loss: 0.7121 - accuracy: 0.4880\n",
            "Epoch 22/100\n",
            "32/32 [==============================] - 0s 4ms/step - loss: 0.7070 - accuracy: 0.4880\n",
            "Epoch 23/100\n",
            "32/32 [==============================] - 0s 4ms/step - loss: 0.7036 - accuracy: 0.4870\n",
            "Epoch 24/100\n",
            "32/32 [==============================] - 0s 4ms/step - loss: 0.7011 - accuracy: 0.4900\n",
            "Epoch 25/100\n",
            "32/32 [==============================] - 0s 5ms/step - loss: 0.6993 - accuracy: 0.4860\n",
            "Epoch 26/100\n",
            "32/32 [==============================] - 0s 4ms/step - loss: 0.6977 - accuracy: 0.4910\n",
            "Epoch 27/100\n",
            "32/32 [==============================] - 0s 5ms/step - loss: 0.6970 - accuracy: 0.4950\n",
            "Epoch 28/100\n",
            "32/32 [==============================] - 0s 4ms/step - loss: 0.6959 - accuracy: 0.4970\n",
            "Epoch 29/100\n",
            "32/32 [==============================] - 0s 4ms/step - loss: 0.6955 - accuracy: 0.4950\n",
            "Epoch 30/100\n",
            "32/32 [==============================] - 0s 4ms/step - loss: 0.6949 - accuracy: 0.4970\n",
            "Epoch 31/100\n",
            "32/32 [==============================] - 0s 4ms/step - loss: 0.6946 - accuracy: 0.4990\n",
            "Epoch 32/100\n",
            "32/32 [==============================] - 0s 5ms/step - loss: 0.6943 - accuracy: 0.4910\n",
            "Epoch 33/100\n",
            "32/32 [==============================] - 0s 4ms/step - loss: 0.6940 - accuracy: 0.5000\n",
            "Epoch 34/100\n",
            "32/32 [==============================] - 0s 5ms/step - loss: 0.6939 - accuracy: 0.4910\n",
            "Epoch 35/100\n",
            "32/32 [==============================] - 0s 4ms/step - loss: 0.6937 - accuracy: 0.4940\n",
            "Epoch 36/100\n",
            "32/32 [==============================] - 0s 4ms/step - loss: 0.6935 - accuracy: 0.4930\n",
            "Epoch 37/100\n",
            "32/32 [==============================] - 0s 4ms/step - loss: 0.6934 - accuracy: 0.4950\n",
            "Epoch 38/100\n",
            "32/32 [==============================] - 0s 8ms/step - loss: 0.6935 - accuracy: 0.4900\n",
            "Epoch 39/100\n",
            "32/32 [==============================] - 0s 9ms/step - loss: 0.6934 - accuracy: 0.4840\n",
            "Epoch 40/100\n",
            "32/32 [==============================] - 0s 8ms/step - loss: 0.6935 - accuracy: 0.5000\n",
            "Epoch 41/100\n",
            "32/32 [==============================] - 0s 11ms/step - loss: 0.6936 - accuracy: 0.5060\n",
            "Epoch 42/100\n",
            "32/32 [==============================] - 0s 9ms/step - loss: 0.6935 - accuracy: 0.4800\n",
            "Epoch 43/100\n",
            "32/32 [==============================] - 0s 8ms/step - loss: 0.6933 - accuracy: 0.5050\n",
            "Epoch 44/100\n",
            "32/32 [==============================] - 0s 6ms/step - loss: 0.6936 - accuracy: 0.4810\n",
            "Epoch 45/100\n",
            "32/32 [==============================] - 0s 4ms/step - loss: 0.6933 - accuracy: 0.4550\n",
            "Epoch 46/100\n",
            "32/32 [==============================] - 0s 4ms/step - loss: 0.6932 - accuracy: 0.4920\n",
            "Epoch 47/100\n",
            "32/32 [==============================] - 0s 4ms/step - loss: 0.6935 - accuracy: 0.4870\n",
            "Epoch 48/100\n",
            "32/32 [==============================] - 0s 4ms/step - loss: 0.6934 - accuracy: 0.5100\n",
            "Epoch 49/100\n",
            "32/32 [==============================] - 0s 5ms/step - loss: 0.6934 - accuracy: 0.4770\n",
            "Epoch 50/100\n",
            "32/32 [==============================] - 0s 4ms/step - loss: 0.6934 - accuracy: 0.5000\n",
            "Epoch 51/100\n",
            "32/32 [==============================] - 0s 4ms/step - loss: 0.6933 - accuracy: 0.4760\n",
            "Epoch 52/100\n",
            "32/32 [==============================] - 0s 5ms/step - loss: 0.6934 - accuracy: 0.5010\n",
            "Epoch 53/100\n",
            "32/32 [==============================] - 0s 4ms/step - loss: 0.6935 - accuracy: 0.4880\n",
            "Epoch 54/100\n",
            "32/32 [==============================] - 0s 5ms/step - loss: 0.6933 - accuracy: 0.5530\n",
            "Epoch 55/100\n",
            "32/32 [==============================] - 0s 4ms/step - loss: 0.6935 - accuracy: 0.5060\n",
            "Epoch 56/100\n",
            "32/32 [==============================] - 0s 4ms/step - loss: 0.6935 - accuracy: 0.5200\n",
            "Epoch 57/100\n",
            "32/32 [==============================] - 0s 4ms/step - loss: 0.6933 - accuracy: 0.4910\n",
            "Epoch 58/100\n",
            "32/32 [==============================] - 0s 4ms/step - loss: 0.6934 - accuracy: 0.4990\n",
            "Epoch 59/100\n",
            "32/32 [==============================] - 0s 4ms/step - loss: 0.6938 - accuracy: 0.5000\n",
            "Epoch 60/100\n",
            "32/32 [==============================] - 0s 4ms/step - loss: 0.6934 - accuracy: 0.5000\n",
            "Epoch 61/100\n",
            "32/32 [==============================] - 0s 5ms/step - loss: 0.6935 - accuracy: 0.4900\n",
            "Epoch 62/100\n",
            "32/32 [==============================] - 0s 4ms/step - loss: 0.6934 - accuracy: 0.4820\n",
            "Epoch 63/100\n",
            "32/32 [==============================] - 0s 4ms/step - loss: 0.6933 - accuracy: 0.4700\n",
            "Epoch 64/100\n",
            "32/32 [==============================] - 0s 4ms/step - loss: 0.6934 - accuracy: 0.4820\n",
            "Epoch 65/100\n",
            "32/32 [==============================] - 0s 4ms/step - loss: 0.6934 - accuracy: 0.4620\n",
            "Epoch 66/100\n",
            "32/32 [==============================] - 0s 4ms/step - loss: 0.6934 - accuracy: 0.4760\n",
            "Epoch 67/100\n",
            "32/32 [==============================] - 0s 5ms/step - loss: 0.6934 - accuracy: 0.4830\n",
            "Epoch 68/100\n",
            "32/32 [==============================] - 0s 5ms/step - loss: 0.6933 - accuracy: 0.4680\n",
            "Epoch 69/100\n",
            "32/32 [==============================] - 0s 4ms/step - loss: 0.6933 - accuracy: 0.5010\n",
            "Epoch 70/100\n",
            "32/32 [==============================] - 0s 4ms/step - loss: 0.6934 - accuracy: 0.4970\n",
            "Epoch 71/100\n",
            "32/32 [==============================] - 0s 4ms/step - loss: 0.6933 - accuracy: 0.4680\n",
            "Epoch 72/100\n",
            "32/32 [==============================] - 0s 4ms/step - loss: 0.6934 - accuracy: 0.5070\n",
            "Epoch 73/100\n",
            "32/32 [==============================] - 0s 4ms/step - loss: 0.6934 - accuracy: 0.5320\n",
            "Epoch 74/100\n",
            "32/32 [==============================] - 0s 5ms/step - loss: 0.6933 - accuracy: 0.5290\n",
            "Epoch 75/100\n",
            "32/32 [==============================] - 0s 4ms/step - loss: 0.6935 - accuracy: 0.5000\n",
            "Epoch 76/100\n",
            "32/32 [==============================] - 0s 4ms/step - loss: 0.6935 - accuracy: 0.4730\n",
            "Epoch 77/100\n",
            "32/32 [==============================] - 0s 4ms/step - loss: 0.6935 - accuracy: 0.4870\n",
            "Epoch 78/100\n",
            "32/32 [==============================] - 0s 4ms/step - loss: 0.6934 - accuracy: 0.4830\n",
            "Epoch 79/100\n",
            "32/32 [==============================] - 0s 5ms/step - loss: 0.6935 - accuracy: 0.4640\n",
            "Epoch 80/100\n",
            "32/32 [==============================] - 0s 4ms/step - loss: 0.6933 - accuracy: 0.5040\n",
            "Epoch 81/100\n",
            "32/32 [==============================] - 0s 5ms/step - loss: 0.6936 - accuracy: 0.5000\n",
            "Epoch 82/100\n",
            "32/32 [==============================] - 0s 4ms/step - loss: 0.6935 - accuracy: 0.5020\n",
            "Epoch 83/100\n",
            "32/32 [==============================] - 0s 5ms/step - loss: 0.6936 - accuracy: 0.4840\n",
            "Epoch 84/100\n",
            "32/32 [==============================] - 0s 4ms/step - loss: 0.6932 - accuracy: 0.5070\n",
            "Epoch 85/100\n",
            "32/32 [==============================] - 0s 4ms/step - loss: 0.6933 - accuracy: 0.5000\n",
            "Epoch 86/100\n",
            "32/32 [==============================] - 0s 4ms/step - loss: 0.6935 - accuracy: 0.5000\n",
            "Epoch 87/100\n",
            "32/32 [==============================] - 0s 4ms/step - loss: 0.6933 - accuracy: 0.5000\n",
            "Epoch 88/100\n",
            "32/32 [==============================] - 0s 5ms/step - loss: 0.6933 - accuracy: 0.4680\n",
            "Epoch 89/100\n",
            "32/32 [==============================] - 0s 5ms/step - loss: 0.6934 - accuracy: 0.4590\n",
            "Epoch 90/100\n",
            "32/32 [==============================] - 0s 4ms/step - loss: 0.6937 - accuracy: 0.4980\n",
            "Epoch 91/100\n",
            "32/32 [==============================] - 0s 5ms/step - loss: 0.6933 - accuracy: 0.4910\n",
            "Epoch 92/100\n",
            "32/32 [==============================] - 0s 4ms/step - loss: 0.6935 - accuracy: 0.4850\n",
            "Epoch 93/100\n",
            "32/32 [==============================] - 0s 4ms/step - loss: 0.6938 - accuracy: 0.4970\n",
            "Epoch 94/100\n",
            "32/32 [==============================] - 0s 4ms/step - loss: 0.6934 - accuracy: 0.4710\n",
            "Epoch 95/100\n",
            "32/32 [==============================] - 0s 4ms/step - loss: 0.6934 - accuracy: 0.4720\n",
            "Epoch 96/100\n",
            "32/32 [==============================] - 0s 5ms/step - loss: 0.6934 - accuracy: 0.4880\n",
            "Epoch 97/100\n",
            "32/32 [==============================] - 0s 4ms/step - loss: 0.6934 - accuracy: 0.4510\n",
            "Epoch 98/100\n",
            "32/32 [==============================] - 0s 4ms/step - loss: 0.6934 - accuracy: 0.4640\n",
            "Epoch 99/100\n",
            "32/32 [==============================] - 0s 4ms/step - loss: 0.6935 - accuracy: 0.4940\n",
            "Epoch 100/100\n",
            "32/32 [==============================] - 0s 4ms/step - loss: 0.6936 - accuracy: 0.5180\n"
          ]
        }
      ]
    },
    {
      "cell_type": "code",
      "source": [
        "plot_decision_boundary(model_5,X,y)"
      ],
      "metadata": {
        "colab": {
          "base_uri": "https://localhost:8080/",
          "height": 282
        },
        "id": "0fNUF3fJGLhf",
        "outputId": "6cc4ebd8-18c7-475e-fe16-52fd186c5538"
      },
      "execution_count": null,
      "outputs": [
        {
          "output_type": "stream",
          "name": "stdout",
          "text": [
            "doing binary classification...\n"
          ]
        },
        {
          "output_type": "display_data",
          "data": {
            "image/png": "[encoded data removed]",
            "text/plain": [
              "<Figure size 432x288 with 1 Axes>"
            ]
          },
          "metadata": {
            "needs_background": "light"
          }
        }
      ]
    },
    {
      "cell_type": "code",
      "source": [
        "tf.random.set_seed(42)\n",
        "\n",
        "model_6 = tf.keras.Sequential([\n",
        "              tf.keras.layers.Dense(4, activation = tf.keras.activations.relu),\n",
        "              tf.keras.layers.Dense(4, activation = tf.keras.activations.relu),\n",
        "              tf.keras.layers.Dense(1)                 \n",
        "])\n",
        "\n",
        "model_6.compile(loss=tf.keras.losses.binary_crossentropy,\n",
        "                optimizer=tf.keras.optimizers.Adam(lr=0.001),\n",
        "                metrics=['accuracy'])\n",
        "\n",
        "history = model_6.fit(X,y,epochs=100)"
      ],
      "metadata": {
        "colab": {
          "base_uri": "https://localhost:8080/"
        },
        "id": "wEYnOZjfGb8Z",
        "outputId": "b32e4c5d-ec4a-4886-8aa4-a3553903d1e5"
      },
      "execution_count": null,
      "outputs": [
        {
          "output_type": "stream",
          "name": "stdout",
          "text": [
            "Epoch 1/100\n"
          ]
        },
        {
          "output_type": "stream",
          "name": "stderr",
          "text": [
            "/usr/local/lib/python3.7/dist-packages/keras/optimizer_v2/adam.py:105: UserWarning: The `lr` argument is deprecated, use `learning_rate` instead.\n",
            "  super(Adam, self).__init__(name, **kwargs)\n"
          ]
        },
        {
          "output_type": "stream",
          "name": "stdout",
          "text": [
            "32/32 [==============================] - 1s 5ms/step - loss: 7.7125 - accuracy: 0.5000\n",
            "Epoch 2/100\n",
            "32/32 [==============================] - 0s 5ms/step - loss: 7.7125 - accuracy: 0.5000\n",
            "Epoch 3/100\n",
            "32/32 [==============================] - 0s 4ms/step - loss: 7.7125 - accuracy: 0.5000\n",
            "Epoch 4/100\n",
            "32/32 [==============================] - 0s 4ms/step - loss: 7.7125 - accuracy: 0.5000\n",
            "Epoch 5/100\n",
            "32/32 [==============================] - 0s 5ms/step - loss: 7.7125 - accuracy: 0.5000\n",
            "Epoch 6/100\n",
            "32/32 [==============================] - 0s 5ms/step - loss: 7.7125 - accuracy: 0.5000\n",
            "Epoch 7/100\n",
            "32/32 [==============================] - 0s 4ms/step - loss: 7.7125 - accuracy: 0.5000\n",
            "Epoch 8/100\n",
            "32/32 [==============================] - 0s 5ms/step - loss: 7.7125 - accuracy: 0.5000\n",
            "Epoch 9/100\n",
            "32/32 [==============================] - 0s 5ms/step - loss: 7.7125 - accuracy: 0.5000\n",
            "Epoch 10/100\n",
            "32/32 [==============================] - 0s 4ms/step - loss: 7.7125 - accuracy: 0.5000\n",
            "Epoch 11/100\n",
            "32/32 [==============================] - 0s 5ms/step - loss: 7.7125 - accuracy: 0.5000\n",
            "Epoch 12/100\n",
            "32/32 [==============================] - 0s 5ms/step - loss: 7.7125 - accuracy: 0.5000\n",
            "Epoch 13/100\n",
            "32/32 [==============================] - 0s 5ms/step - loss: 7.7125 - accuracy: 0.5000\n",
            "Epoch 14/100\n",
            "32/32 [==============================] - 0s 5ms/step - loss: 7.7125 - accuracy: 0.5000\n",
            "Epoch 15/100\n",
            "32/32 [==============================] - 0s 5ms/step - loss: 7.7125 - accuracy: 0.5000\n",
            "Epoch 16/100\n",
            "32/32 [==============================] - 0s 5ms/step - loss: 7.7125 - accuracy: 0.5000\n",
            "Epoch 17/100\n",
            "32/32 [==============================] - 0s 5ms/step - loss: 7.7125 - accuracy: 0.5000\n",
            "Epoch 18/100\n",
            "32/32 [==============================] - 0s 5ms/step - loss: 7.7125 - accuracy: 0.5000\n",
            "Epoch 19/100\n",
            "32/32 [==============================] - 0s 5ms/step - loss: 7.7125 - accuracy: 0.5000\n",
            "Epoch 20/100\n",
            "32/32 [==============================] - 0s 5ms/step - loss: 7.7125 - accuracy: 0.5000\n",
            "Epoch 21/100\n",
            "32/32 [==============================] - 0s 5ms/step - loss: 7.7125 - accuracy: 0.5000\n",
            "Epoch 22/100\n",
            "32/32 [==============================] - 0s 5ms/step - loss: 7.7125 - accuracy: 0.5000\n",
            "Epoch 23/100\n",
            "32/32 [==============================] - 0s 4ms/step - loss: 7.7125 - accuracy: 0.5000\n",
            "Epoch 24/100\n",
            "32/32 [==============================] - 0s 5ms/step - loss: 7.7125 - accuracy: 0.5000\n",
            "Epoch 25/100\n",
            "32/32 [==============================] - 0s 4ms/step - loss: 7.7125 - accuracy: 0.5000\n",
            "Epoch 26/100\n",
            "32/32 [==============================] - 0s 5ms/step - loss: 7.7125 - accuracy: 0.5000\n",
            "Epoch 27/100\n",
            "32/32 [==============================] - 0s 4ms/step - loss: 7.7125 - accuracy: 0.5000\n",
            "Epoch 28/100\n",
            "32/32 [==============================] - 0s 4ms/step - loss: 7.7125 - accuracy: 0.5000\n",
            "Epoch 29/100\n",
            "32/32 [==============================] - 0s 4ms/step - loss: 7.7125 - accuracy: 0.5000\n",
            "Epoch 30/100\n",
            "32/32 [==============================] - 0s 5ms/step - loss: 7.7125 - accuracy: 0.5000\n",
            "Epoch 31/100\n",
            "32/32 [==============================] - 0s 4ms/step - loss: 7.7125 - accuracy: 0.5000\n",
            "Epoch 32/100\n",
            "32/32 [==============================] - 0s 5ms/step - loss: 7.7125 - accuracy: 0.5000\n",
            "Epoch 33/100\n",
            "32/32 [==============================] - 0s 4ms/step - loss: 7.7125 - accuracy: 0.5000\n",
            "Epoch 34/100\n",
            "32/32 [==============================] - 0s 5ms/step - loss: 7.7125 - accuracy: 0.5000\n",
            "Epoch 35/100\n",
            "32/32 [==============================] - 0s 5ms/step - loss: 7.7125 - accuracy: 0.5000\n",
            "Epoch 36/100\n",
            "32/32 [==============================] - 0s 4ms/step - loss: 7.7125 - accuracy: 0.5000\n",
            "Epoch 37/100\n",
            "32/32 [==============================] - 0s 5ms/step - loss: 7.7125 - accuracy: 0.5000\n",
            "Epoch 38/100\n",
            "32/32 [==============================] - 0s 5ms/step - loss: 7.7125 - accuracy: 0.5000\n",
            "Epoch 39/100\n",
            "32/32 [==============================] - 0s 5ms/step - loss: 7.7125 - accuracy: 0.5000\n",
            "Epoch 40/100\n",
            "32/32 [==============================] - 0s 5ms/step - loss: 7.7125 - accuracy: 0.5000\n",
            "Epoch 41/100\n",
            "32/32 [==============================] - 0s 4ms/step - loss: 7.7125 - accuracy: 0.5000\n",
            "Epoch 42/100\n",
            "32/32 [==============================] - 0s 5ms/step - loss: 7.7125 - accuracy: 0.5000\n",
            "Epoch 43/100\n",
            "32/32 [==============================] - 0s 6ms/step - loss: 7.7125 - accuracy: 0.5000\n",
            "Epoch 44/100\n",
            "32/32 [==============================] - 0s 5ms/step - loss: 7.7125 - accuracy: 0.5000\n",
            "Epoch 45/100\n",
            "32/32 [==============================] - 0s 4ms/step - loss: 7.7125 - accuracy: 0.5000\n",
            "Epoch 46/100\n",
            "32/32 [==============================] - 0s 5ms/step - loss: 7.7125 - accuracy: 0.5000\n",
            "Epoch 47/100\n",
            "32/32 [==============================] - 0s 5ms/step - loss: 7.7125 - accuracy: 0.5000\n",
            "Epoch 48/100\n",
            "32/32 [==============================] - 0s 5ms/step - loss: 7.7125 - accuracy: 0.5000\n",
            "Epoch 49/100\n",
            "32/32 [==============================] - 0s 5ms/step - loss: 7.7125 - accuracy: 0.5000\n",
            "Epoch 50/100\n",
            "32/32 [==============================] - 0s 5ms/step - loss: 7.7125 - accuracy: 0.5000\n",
            "Epoch 51/100\n",
            "32/32 [==============================] - 0s 5ms/step - loss: 7.7125 - accuracy: 0.5000\n",
            "Epoch 52/100\n",
            "32/32 [==============================] - 0s 5ms/step - loss: 7.7125 - accuracy: 0.5000\n",
            "Epoch 53/100\n",
            "32/32 [==============================] - 0s 4ms/step - loss: 7.7125 - accuracy: 0.5000\n",
            "Epoch 54/100\n",
            "32/32 [==============================] - 0s 4ms/step - loss: 7.7125 - accuracy: 0.5000\n",
            "Epoch 55/100\n",
            "32/32 [==============================] - 0s 5ms/step - loss: 7.7125 - accuracy: 0.5000\n",
            "Epoch 56/100\n",
            "32/32 [==============================] - 0s 5ms/step - loss: 7.7125 - accuracy: 0.5000\n",
            "Epoch 57/100\n",
            "32/32 [==============================] - 0s 5ms/step - loss: 7.7125 - accuracy: 0.5000\n",
            "Epoch 58/100\n",
            "32/32 [==============================] - 0s 6ms/step - loss: 7.7125 - accuracy: 0.5000\n",
            "Epoch 59/100\n",
            "32/32 [==============================] - 0s 4ms/step - loss: 7.7125 - accuracy: 0.5000\n",
            "Epoch 60/100\n",
            "32/32 [==============================] - 0s 4ms/step - loss: 7.7125 - accuracy: 0.5000\n",
            "Epoch 61/100\n",
            "32/32 [==============================] - 0s 5ms/step - loss: 7.7125 - accuracy: 0.5000\n",
            "Epoch 62/100\n",
            "32/32 [==============================] - 0s 5ms/step - loss: 7.7125 - accuracy: 0.5000\n",
            "Epoch 63/100\n",
            "32/32 [==============================] - 0s 5ms/step - loss: 7.7125 - accuracy: 0.5000\n",
            "Epoch 64/100\n",
            "32/32 [==============================] - 0s 5ms/step - loss: 7.7125 - accuracy: 0.5000\n",
            "Epoch 65/100\n",
            "32/32 [==============================] - 0s 4ms/step - loss: 7.7125 - accuracy: 0.5000\n",
            "Epoch 66/100\n",
            "32/32 [==============================] - 0s 4ms/step - loss: 7.7125 - accuracy: 0.5000\n",
            "Epoch 67/100\n",
            "32/32 [==============================] - 0s 5ms/step - loss: 7.7125 - accuracy: 0.5000\n",
            "Epoch 68/100\n",
            "32/32 [==============================] - 0s 5ms/step - loss: 7.7125 - accuracy: 0.5000\n",
            "Epoch 69/100\n",
            "32/32 [==============================] - 0s 5ms/step - loss: 7.7125 - accuracy: 0.5000\n",
            "Epoch 70/100\n",
            "32/32 [==============================] - 0s 5ms/step - loss: 7.7125 - accuracy: 0.5000\n",
            "Epoch 71/100\n",
            "32/32 [==============================] - 0s 4ms/step - loss: 7.7125 - accuracy: 0.5000\n",
            "Epoch 72/100\n",
            "32/32 [==============================] - 0s 4ms/step - loss: 7.7125 - accuracy: 0.5000\n",
            "Epoch 73/100\n",
            "32/32 [==============================] - 0s 4ms/step - loss: 7.7125 - accuracy: 0.5000\n",
            "Epoch 74/100\n",
            "32/32 [==============================] - 0s 5ms/step - loss: 7.7125 - accuracy: 0.5000\n",
            "Epoch 75/100\n",
            "32/32 [==============================] - 0s 5ms/step - loss: 7.7125 - accuracy: 0.5000\n",
            "Epoch 76/100\n",
            "32/32 [==============================] - 0s 5ms/step - loss: 7.7125 - accuracy: 0.5000\n",
            "Epoch 77/100\n",
            "32/32 [==============================] - 0s 5ms/step - loss: 7.7125 - accuracy: 0.5000\n",
            "Epoch 78/100\n",
            "32/32 [==============================] - 0s 4ms/step - loss: 7.7125 - accuracy: 0.5000\n",
            "Epoch 79/100\n",
            "32/32 [==============================] - 0s 5ms/step - loss: 7.7125 - accuracy: 0.5000\n",
            "Epoch 80/100\n",
            "32/32 [==============================] - 0s 5ms/step - loss: 7.7125 - accuracy: 0.5000\n",
            "Epoch 81/100\n",
            "32/32 [==============================] - 0s 5ms/step - loss: 7.7125 - accuracy: 0.5000\n",
            "Epoch 82/100\n",
            "32/32 [==============================] - 0s 5ms/step - loss: 7.7125 - accuracy: 0.5000\n",
            "Epoch 83/100\n",
            "32/32 [==============================] - 0s 5ms/step - loss: 7.7125 - accuracy: 0.5000\n",
            "Epoch 84/100\n",
            "32/32 [==============================] - 0s 4ms/step - loss: 7.7125 - accuracy: 0.5000\n",
            "Epoch 85/100\n",
            "32/32 [==============================] - 0s 5ms/step - loss: 7.7125 - accuracy: 0.5000\n",
            "Epoch 86/100\n",
            "32/32 [==============================] - 0s 5ms/step - loss: 7.7125 - accuracy: 0.5000\n",
            "Epoch 87/100\n",
            "32/32 [==============================] - 0s 5ms/step - loss: 7.7125 - accuracy: 0.5000\n",
            "Epoch 88/100\n",
            "32/32 [==============================] - 0s 5ms/step - loss: 7.7125 - accuracy: 0.5000\n",
            "Epoch 89/100\n",
            "32/32 [==============================] - 0s 5ms/step - loss: 7.7125 - accuracy: 0.5000\n",
            "Epoch 90/100\n",
            "32/32 [==============================] - 0s 4ms/step - loss: 7.7125 - accuracy: 0.5000\n",
            "Epoch 91/100\n",
            "32/32 [==============================] - 0s 5ms/step - loss: 7.7125 - accuracy: 0.5000\n",
            "Epoch 92/100\n",
            "32/32 [==============================] - 0s 5ms/step - loss: 7.7125 - accuracy: 0.5000\n",
            "Epoch 93/100\n",
            "32/32 [==============================] - 0s 5ms/step - loss: 7.7125 - accuracy: 0.5000\n",
            "Epoch 94/100\n",
            "32/32 [==============================] - 0s 5ms/step - loss: 7.7125 - accuracy: 0.5000\n",
            "Epoch 95/100\n",
            "32/32 [==============================] - 0s 4ms/step - loss: 7.7125 - accuracy: 0.5000\n",
            "Epoch 96/100\n",
            "32/32 [==============================] - 0s 5ms/step - loss: 7.7125 - accuracy: 0.5000\n",
            "Epoch 97/100\n",
            "32/32 [==============================] - 0s 5ms/step - loss: 7.7125 - accuracy: 0.5000\n",
            "Epoch 98/100\n",
            "32/32 [==============================] - 0s 5ms/step - loss: 7.7125 - accuracy: 0.5000\n",
            "Epoch 99/100\n",
            "32/32 [==============================] - 0s 5ms/step - loss: 7.7125 - accuracy: 0.5000\n",
            "Epoch 100/100\n",
            "32/32 [==============================] - 0s 5ms/step - loss: 7.7125 - accuracy: 0.5000\n"
          ]
        }
      ]
    },
    {
      "cell_type": "code",
      "source": [
        "model_6.evaluate(X,y)"
      ],
      "metadata": {
        "id": "Wl4RwZPGIJEC"
      },
      "execution_count": null,
      "outputs": []
    },
    {
      "cell_type": "code",
      "source": [
        "plot_decision_boundary(model_6, X, y)"
      ],
      "metadata": {
        "id": "lNa6bt-3Iq3G"
      },
      "execution_count": null,
      "outputs": []
    },
    {
      "cell_type": "code",
      "source": [
        "tf.random.set_seed(42)\n",
        "\n",
        "model_7=tf.keras.Sequential([\n",
        "                             tf.keras.layers.Dense(4, activation=tf.keras.activations.relu),\n",
        "                             tf.keras.layers.Dense(4, activation=tf.keras.activations.relu),\n",
        "                             tf.keras.layers.Dense(1, activation=tf.keras.activations.sigmoid)\n",
        "])\n",
        "\n",
        "model_7.compile(loss=tf.keras.losses.binary_crossentropy,\n",
        "                optimizer=tf.keras.optimizers.Adam(lr=0.001),\n",
        "                metrics=['accuracy'])\n",
        "\n",
        "history=model_7.fit(X,y,epochs=100)"
      ],
      "metadata": {
        "id": "3vitA48aIunT"
      },
      "execution_count": null,
      "outputs": []
    },
    {
      "cell_type": "code",
      "source": [
        "model_7.evaluate(X,y)"
      ],
      "metadata": {
        "id": "tBhWLL46Jvem"
      },
      "execution_count": null,
      "outputs": []
    },
    {
      "cell_type": "code",
      "source": [
        "plot_decision_boundary(model_7, X, y)"
      ],
      "metadata": {
        "id": "c0TL5vKGKUMY"
      },
      "execution_count": null,
      "outputs": []
    },
    {
      "cell_type": "code",
      "source": [
        "A = tf.cast(tf.range(-10,10), tf.float32)\n",
        "A"
      ],
      "metadata": {
        "id": "qso7Q3KKKZ3H"
      },
      "execution_count": null,
      "outputs": []
    },
    {
      "cell_type": "code",
      "source": [
        "plt.plot(A)"
      ],
      "metadata": {
        "id": "cdA_iSuCLtik"
      },
      "execution_count": null,
      "outputs": []
    },
    {
      "cell_type": "code",
      "source": [
        "def sigmoid(x):\n",
        "  return 1/(1+tf.exp(-x))\n",
        "\n",
        "sigmoid(A)  "
      ],
      "metadata": {
        "id": "oMps06LrLxZJ"
      },
      "execution_count": null,
      "outputs": []
    },
    {
      "cell_type": "code",
      "source": [
        "plt.plot(sigmoid(A))"
      ],
      "metadata": {
        "id": "LjMylgYmM1hB"
      },
      "execution_count": null,
      "outputs": []
    },
    {
      "cell_type": "code",
      "source": [
        "def relu(x):\n",
        "  return tf.maximum(0,x)\n",
        "\n",
        "relu(A)  "
      ],
      "metadata": {
        "id": "nmlBSc7tM6bx"
      },
      "execution_count": null,
      "outputs": []
    },
    {
      "cell_type": "code",
      "source": [
        "plt.plot(relu(A))"
      ],
      "metadata": {
        "id": "qIAP89ZKNNm0"
      },
      "execution_count": null,
      "outputs": []
    },
    {
      "cell_type": "code",
      "source": [
        "X_train, y_train = X[:800], y[:800]\n",
        "X_test, y_test = X[800:], y[800:]"
      ],
      "metadata": {
        "id": "XgdcRQg5NP2r"
      },
      "execution_count": null,
      "outputs": []
    },
    {
      "cell_type": "code",
      "source": [
        "tf.random.set_seed(42)\n",
        "\n",
        "model_8 = tf.keras.Sequential([\n",
        "                   tf.keras.layers.Dense(4, activation=\"relu\"),\n",
        "                   tf.keras.layers.Dense(4, activation=\"relu\"),\n",
        "                   tf.keras.layers.Dense(1, activation=\"sigmoid\")            \n",
        "])\n",
        "\n",
        "model_8.compile(loss=\"binary_crossentropy\",\n",
        "                optimizer=tf.keras.optimizers.Adam(lr=0.01),\n",
        "                metrics=['accuracy'])\n",
        "\n",
        "history = model_8.fit(X_train,y_train,epochs=25)"
      ],
      "metadata": {
        "id": "Xs8dLVITPohj"
      },
      "execution_count": null,
      "outputs": []
    },
    {
      "cell_type": "code",
      "source": [
        "loss, accuracy = model_8.evaluate(X_test,y_test)\n",
        "print(f\"Model loss on the test set: {loss}\")\n",
        "print(f\"Model accuracy on the test set: {100*accuracy:.2f}%\")"
      ],
      "metadata": {
        "id": "Rxm5H-TtQsnQ"
      },
      "execution_count": null,
      "outputs": []
    },
    {
      "cell_type": "code",
      "source": [
        "plt.figure(figsize=(12,6))\n",
        "plt.subplot(1,2,1)\n",
        "plt.title(\"Train\")\n",
        "plot_decision_boundary(model_8, X=X_train, y=y_train)\n",
        "plt.subplot(1,2,2)\n",
        "plt.title(\"Test\")\n",
        "plot_decision_boundary(model_8, X_test,y_test)\n",
        "plt.show()"
      ],
      "metadata": {
        "id": "KLaLeDi8Q_KJ"
      },
      "execution_count": null,
      "outputs": []
    },
    {
      "cell_type": "code",
      "source": [
        "pd.DataFrame(history.history)"
      ],
      "metadata": {
        "id": "M5Fixc4iSHrP"
      },
      "execution_count": null,
      "outputs": []
    },
    {
      "cell_type": "code",
      "source": [
        "pd.DataFrame(history.history).plot()\n",
        "plt.title(\"Model 8\")"
      ],
      "metadata": {
        "id": "uW6iDBxbS5SY"
      },
      "execution_count": null,
      "outputs": []
    },
    {
      "cell_type": "code",
      "source": [
        "tf.random.set_seed(42)\n",
        "\n",
        "model_9 = tf.keras.Sequential([\n",
        "                     tf.keras.layers.Dense(4, activation=\"relu\"),\n",
        "                     tf.keras.layers.Dense(4, activation=\"relu\"),\n",
        "                     tf.keras.layers.Dense(1, activation=\"sigmoid\")          \n",
        "])\n",
        "\n",
        "model_9.compile(loss=tf.keras.losses.binary_crossentropy,\n",
        "                optimizer=tf.keras.optimizers.Adam(),\n",
        "                metrics=['accuracy'])\n",
        "\n",
        "lr_scheduler = tf.keras.callbacks.LearningRateScheduler(lambda epoch: 1e-4 * 10**(epoch/20))\n",
        "\n",
        "history = model_9.fit(X_train, y_train, epochs=100, callbacks=[lr_scheduler])"
      ],
      "metadata": {
        "id": "CDClvGOXTP6w"
      },
      "execution_count": null,
      "outputs": []
    },
    {
      "cell_type": "code",
      "source": [
        "pd.DataFrame(history.history).plot(figsize=(10,7),xlabel=\"epochs\")\n"
      ],
      "metadata": {
        "id": "4SkT2w-xVAg_"
      },
      "execution_count": null,
      "outputs": []
    },
    {
      "cell_type": "code",
      "source": [
        "lrs = 1e-4 * (10 ** (np.arange(100)/20))\n",
        "plt.figure(figsize=(10,7))\n",
        "plt.semilogx(lrs, history.history['loss'])\n",
        "plt.xlabel(\"Learning rate\")\n",
        "plt.ylabel(\"Loss\")\n",
        "plt.title(\"Learning rate vs Loss\")"
      ],
      "metadata": {
        "id": "YxWDuFreVpv6"
      },
      "execution_count": null,
      "outputs": []
    },
    {
      "cell_type": "code",
      "source": [
        "tf.random.set_seed(42)\n",
        "\n",
        "model_10 = tf.keras.Sequential([\n",
        "                    tf.keras.layers.Dense(4, activation=\"relu\"),\n",
        "                    tf.keras.layers.Dense(4, activation=\"relu\"),\n",
        "                    tf.keras.layers.Dense(1, activation=\"sigmoid\")            \n",
        "])\n",
        "\n",
        "model_10.compile(loss=tf.keras.losses.binary_crossentropy,\n",
        "                 optimizer = tf.keras.optimizers.Adam(0.02),\n",
        "                 metrics=[\"accuracy\"])\n",
        "\n",
        "\n",
        "model_10.fit(X_train,y_train,epochs=20)"
      ],
      "metadata": {
        "colab": {
          "base_uri": "https://localhost:8080/"
        },
        "id": "8Hcka2J7Wp2N",
        "outputId": "f9786166-3cc8-4fc9-cb7d-fbdf288cc108"
      },
      "execution_count": null,
      "outputs": [
        {
          "output_type": "stream",
          "name": "stdout",
          "text": [
            "Epoch 1/20\n",
            "25/25 [==============================] - 1s 4ms/step - loss: 0.6837 - accuracy: 0.5600\n",
            "Epoch 2/20\n",
            "25/25 [==============================] - 0s 4ms/step - loss: 0.6744 - accuracy: 0.5750\n",
            "Epoch 3/20\n",
            "25/25 [==============================] - 0s 3ms/step - loss: 0.6626 - accuracy: 0.5875\n",
            "Epoch 4/20\n",
            "25/25 [==============================] - 0s 3ms/step - loss: 0.6332 - accuracy: 0.6388\n",
            "Epoch 5/20\n",
            "25/25 [==============================] - 0s 4ms/step - loss: 0.5830 - accuracy: 0.7563\n",
            "Epoch 6/20\n",
            "25/25 [==============================] - 0s 3ms/step - loss: 0.4907 - accuracy: 0.8313\n",
            "Epoch 7/20\n",
            "25/25 [==============================] - 0s 3ms/step - loss: 0.4251 - accuracy: 0.8450\n",
            "Epoch 8/20\n",
            "25/25 [==============================] - 0s 4ms/step - loss: 0.3596 - accuracy: 0.8875\n",
            "Epoch 9/20\n",
            "25/25 [==============================] - 0s 3ms/step - loss: 0.3152 - accuracy: 0.9100\n",
            "Epoch 10/20\n",
            "25/25 [==============================] - 0s 3ms/step - loss: 0.2512 - accuracy: 0.9500\n",
            "Epoch 11/20\n",
            "25/25 [==============================] - 0s 4ms/step - loss: 0.2152 - accuracy: 0.9500\n",
            "Epoch 12/20\n",
            "25/25 [==============================] - 0s 4ms/step - loss: 0.1721 - accuracy: 0.9750\n",
            "Epoch 13/20\n",
            "25/25 [==============================] - 0s 4ms/step - loss: 0.1443 - accuracy: 0.9837\n",
            "Epoch 14/20\n",
            "25/25 [==============================] - 0s 4ms/step - loss: 0.1232 - accuracy: 0.9862\n",
            "Epoch 15/20\n",
            "25/25 [==============================] - 0s 3ms/step - loss: 0.1085 - accuracy: 0.9850\n",
            "Epoch 16/20\n",
            "25/25 [==============================] - 0s 4ms/step - loss: 0.0940 - accuracy: 0.9937\n",
            "Epoch 17/20\n",
            "25/25 [==============================] - 0s 4ms/step - loss: 0.0827 - accuracy: 0.9962\n",
            "Epoch 18/20\n",
            "25/25 [==============================] - 0s 4ms/step - loss: 0.0798 - accuracy: 0.9937\n",
            "Epoch 19/20\n",
            "25/25 [==============================] - 0s 4ms/step - loss: 0.0845 - accuracy: 0.9875\n",
            "Epoch 20/20\n",
            "25/25 [==============================] - 0s 3ms/step - loss: 0.0790 - accuracy: 0.9887\n"
          ]
        },
        {
          "output_type": "execute_result",
          "data": {
            "text/plain": [
              "<keras.callbacks.History at 0x7f166ae22d10>"
            ]
          },
          "metadata": {},
          "execution_count": 29
        }
      ]
    },
    {
      "cell_type": "code",
      "source": [
        "model_10.evaluate(X_test,y_test)"
      ],
      "metadata": {
        "colab": {
          "base_uri": "https://localhost:8080/"
        },
        "id": "AFkw9ssfYPUD",
        "outputId": "e12c13dd-2224-43d4-ba42-128feb0e2c58"
      },
      "execution_count": null,
      "outputs": [
        {
          "output_type": "stream",
          "name": "stdout",
          "text": [
            "7/7 [==============================] - 0s 5ms/step - loss: 0.0574 - accuracy: 0.9900\n"
          ]
        },
        {
          "output_type": "execute_result",
          "data": {
            "text/plain": [
              "[0.05740181356668472, 0.9900000095367432]"
            ]
          },
          "metadata": {},
          "execution_count": 30
        }
      ]
    },
    {
      "cell_type": "code",
      "source": [
        "plt.figure(figsize=(12,6))\n",
        "plt.subplot(1,2,1)\n",
        "plt.title(\"Train\")\n",
        "plot_decision_boundary(model_10, X=X_train, y=y_train)\n",
        "plt.subplot(1,2,2)\n",
        "plt.title(\"Test\")\n",
        "plot_decision_boundary(model_10, X=X_test, y=y_test)\n",
        "plt.show()"
      ],
      "metadata": {
        "colab": {
          "base_uri": "https://localhost:8080/",
          "height": 382
        },
        "id": "DjEgoKwdYgLn",
        "outputId": "acdec5e6-8b1e-48b3-b8dc-fea7ebe8363e"
      },
      "execution_count": null,
      "outputs": [
        {
          "output_type": "stream",
          "name": "stdout",
          "text": [
            "doing binary classification...\n",
            "doing binary classification...\n"
          ]
        },
        {
          "output_type": "display_data",
          "data": {
            "image/png": "[encoded data removed]",
            "text/plain": [
              "<Figure size 864x432 with 2 Axes>"
            ]
          },
          "metadata": {
            "needs_background": "light"
          }
        }
      ]
    },
    {
      "cell_type": "code",
      "source": [
        "loss, accuracy = model_10.evaluate(X_test, y_test)"
      ],
      "metadata": {
        "id": "vgW4eOrAY_gW",
        "colab": {
          "base_uri": "https://localhost:8080/"
        },
        "outputId": "bbc36b3e-1df0-4979-c452-91e6123ab244"
      },
      "execution_count": null,
      "outputs": [
        {
          "output_type": "stream",
          "name": "stdout",
          "text": [
            "7/7 [==============================] - 0s 4ms/step - loss: 0.0574 - accuracy: 0.9900\n"
          ]
        }
      ]
    },
    {
      "cell_type": "code",
      "source": [
        "from sklearn.metrics import confusion_matrix\n",
        "\n",
        "y_predicts = model_10.predict(X_test)\n",
        "\n",
        "confusion_matrix(y_test, y_predicts)"
      ],
      "metadata": {
        "colab": {
          "base_uri": "https://localhost:8080/",
          "height": 398
        },
        "id": "OJIZ8GUJeecM",
        "outputId": "f35ea315-ba9d-4a51-9966-cdf5ad3a4061"
      },
      "execution_count": null,
      "outputs": [
        {
          "output_type": "error",
          "ename": "ValueError",
          "evalue": "ignored",
          "traceback": [
            "\u001b[0;31m---------------------------------------------------------------------------\u001b[0m",
            "\u001b[0;31mValueError\u001b[0m                                Traceback (most recent call last)",
            "\u001b[0;32m<ipython-input-33-c92b17504b9f>\u001b[0m in \u001b[0;36m<module>\u001b[0;34m()\u001b[0m\n\u001b[1;32m      3\u001b[0m \u001b[0my_predicts\u001b[0m \u001b[0;34m=\u001b[0m \u001b[0mmodel_10\u001b[0m\u001b[0;34m.\u001b[0m\u001b[0mpredict\u001b[0m\u001b[0;34m(\u001b[0m\u001b[0mX_test\u001b[0m\u001b[0;34m)\u001b[0m\u001b[0;34m\u001b[0m\u001b[0;34m\u001b[0m\u001b[0m\n\u001b[1;32m      4\u001b[0m \u001b[0;34m\u001b[0m\u001b[0m\n\u001b[0;32m----> 5\u001b[0;31m \u001b[0mconfusion_matrix\u001b[0m\u001b[0;34m(\u001b[0m\u001b[0my_test\u001b[0m\u001b[0;34m,\u001b[0m \u001b[0my_predicts\u001b[0m\u001b[0;34m)\u001b[0m\u001b[0;34m\u001b[0m\u001b[0;34m\u001b[0m\u001b[0m\n\u001b[0m",
            "\u001b[0;32m/usr/local/lib/python3.7/dist-packages/sklearn/metrics/_classification.py\u001b[0m in \u001b[0;36mconfusion_matrix\u001b[0;34m(y_true, y_pred, labels, sample_weight, normalize)\u001b[0m\n\u001b[1;32m    305\u001b[0m     \u001b[0;34m(\u001b[0m\u001b[0;36m0\u001b[0m\u001b[0;34m,\u001b[0m \u001b[0;36m2\u001b[0m\u001b[0;34m,\u001b[0m \u001b[0;36m1\u001b[0m\u001b[0;34m,\u001b[0m \u001b[0;36m1\u001b[0m\u001b[0;34m)\u001b[0m\u001b[0;34m\u001b[0m\u001b[0;34m\u001b[0m\u001b[0m\n\u001b[1;32m    306\u001b[0m     \"\"\"\n\u001b[0;32m--> 307\u001b[0;31m     \u001b[0my_type\u001b[0m\u001b[0;34m,\u001b[0m \u001b[0my_true\u001b[0m\u001b[0;34m,\u001b[0m \u001b[0my_pred\u001b[0m \u001b[0;34m=\u001b[0m \u001b[0m_check_targets\u001b[0m\u001b[0;34m(\u001b[0m\u001b[0my_true\u001b[0m\u001b[0;34m,\u001b[0m \u001b[0my_pred\u001b[0m\u001b[0;34m)\u001b[0m\u001b[0;34m\u001b[0m\u001b[0;34m\u001b[0m\u001b[0m\n\u001b[0m\u001b[1;32m    308\u001b[0m     \u001b[0;32mif\u001b[0m \u001b[0my_type\u001b[0m \u001b[0;32mnot\u001b[0m \u001b[0;32min\u001b[0m \u001b[0;34m(\u001b[0m\u001b[0;34m\"binary\"\u001b[0m\u001b[0;34m,\u001b[0m \u001b[0;34m\"multiclass\"\u001b[0m\u001b[0;34m)\u001b[0m\u001b[0;34m:\u001b[0m\u001b[0;34m\u001b[0m\u001b[0;34m\u001b[0m\u001b[0m\n\u001b[1;32m    309\u001b[0m         \u001b[0;32mraise\u001b[0m \u001b[0mValueError\u001b[0m\u001b[0;34m(\u001b[0m\u001b[0;34m\"%s is not supported\"\u001b[0m \u001b[0;34m%\u001b[0m \u001b[0my_type\u001b[0m\u001b[0;34m)\u001b[0m\u001b[0;34m\u001b[0m\u001b[0;34m\u001b[0m\u001b[0m\n",
            "\u001b[0;32m/usr/local/lib/python3.7/dist-packages/sklearn/metrics/_classification.py\u001b[0m in \u001b[0;36m_check_targets\u001b[0;34m(y_true, y_pred)\u001b[0m\n\u001b[1;32m     93\u001b[0m         raise ValueError(\n\u001b[1;32m     94\u001b[0m             \"Classification metrics can't handle a mix of {0} and {1} targets\".format(\n\u001b[0;32m---> 95\u001b[0;31m                 \u001b[0mtype_true\u001b[0m\u001b[0;34m,\u001b[0m \u001b[0mtype_pred\u001b[0m\u001b[0;34m\u001b[0m\u001b[0;34m\u001b[0m\u001b[0m\n\u001b[0m\u001b[1;32m     96\u001b[0m             )\n\u001b[1;32m     97\u001b[0m         )\n",
            "\u001b[0;31mValueError\u001b[0m: Classification metrics can't handle a mix of binary and continuous targets"
          ]
        }
      ]
    },
    {
      "cell_type": "code",
      "source": [
        "confusion_matrix(y_test, tf.round(y_predicts))"
      ],
      "metadata": {
        "colab": {
          "base_uri": "https://localhost:8080/"
        },
        "id": "EsEAazW7fFw8",
        "outputId": "0e386bd6-74ef-4d24-9410-7fd82d867b49"
      },
      "execution_count": null,
      "outputs": [
        {
          "output_type": "execute_result",
          "data": {
            "text/plain": [
              "array([[99,  2],\n",
              "       [ 0, 99]])"
            ]
          },
          "metadata": {},
          "execution_count": 36
        }
      ]
    },
    {
      "cell_type": "code",
      "source": [
        "import itertools\n",
        "figsize = (10,10)\n",
        "\n",
        "cm = confusion_matrix(y_test, tf.round(y_predicts))\n",
        "\n",
        "cm_norm=cm.astype(\"float\")/cm.sum(axis=1)[:,np.newaxis]\n",
        "n_classes = cm.shape[0]\n",
        "\n",
        "fig,ax = plt.subplots(figsize=figsize)\n",
        "\n",
        "cax = ax.matshow(cm, cmap=plt.cm.Blues)\n",
        "fig.colorbar(cax)\n",
        "\n",
        "classes = False\n",
        "\n",
        "if classes:\n",
        "  labels = classes\n",
        "else:\n",
        "  labels = np.arange(cm.shape[0])  \n",
        "\n",
        "\n",
        "ax.set(title=\"Confusion Matrix\",\n",
        "       xlabel=\"Predicted label\",\n",
        "       ylabel=\"True label\",\n",
        "       xticks=np.arange(n_classes),\n",
        "       yticks=np.arange(n_classes),\n",
        "       xticklabels=labels,\n",
        "       yticklabels=labels)\n",
        "\n",
        "ax.xaxis.set_label_position(\"bottom\")\n",
        "ax.xaxis.tick_bottom()\n",
        "\n",
        "ax.xaxis.label.set_size(20)\n",
        "ax.yaxis.label.set_size(20)\n",
        "ax.title.set_size(20)\n",
        "\n",
        "threshold = (cm.max()+cm.min())/2.\n",
        "\n",
        "for i,j in itertools.product(range(cm.shape[0]), range(cm.shape[1])):\n",
        "  plt.text(j, i, f\"{cm[i,j]} ({cm_norm[i,j]*100:.1f}%)\",\n",
        "           horizontalalignment=\"center\",\n",
        "           color=\"white\" if cm[i,j]>threshold else \"black\",\n",
        "           size=15)\n"
      ],
      "metadata": {
        "colab": {
          "base_uri": "https://localhost:8080/",
          "height": 580
        },
        "id": "jw2XHNF2f4T1",
        "outputId": "4d491f4c-3260-4c4a-8e8a-0758d60fee1a"
      },
      "execution_count": null,
      "outputs": [
        {
          "output_type": "display_data",
          "data": {
            "image/png": "[encoded data removed]",
            "text/plain": [
              "<Figure size 720x720 with 2 Axes>"
            ]
          },
          "metadata": {
            "needs_background": "light"
          }
        }
      ]
    },
    {
      "cell_type": "code",
      "source": [
        "for i,j in itertools.product(range(cm.shape[0]), range(cm.shape[1])):\n",
        "  print(i,j)"
      ],
      "metadata": {
        "colab": {
          "base_uri": "https://localhost:8080/"
        },
        "id": "8VIRUvmFkCM8",
        "outputId": "01acd1b7-50f4-4006-a52e-a072236fac9a"
      },
      "execution_count": null,
      "outputs": [
        {
          "output_type": "stream",
          "name": "stdout",
          "text": [
            "0 0\n",
            "0 1\n",
            "1 0\n",
            "1 1\n"
          ]
        }
      ]
    },
    {
      "cell_type": "code",
      "source": [
        "import tensorflow as tf\n",
        "from tensorflow.keras.datasets import fashion_mnist\n",
        "\n",
        "(train_data, train_labels), (test_data, test_labels) = fashion_mnist.load_data()"
      ],
      "metadata": {
        "id": "TX3r-4V_lu_i",
        "colab": {
          "base_uri": "https://localhost:8080/"
        },
        "outputId": "e0f7a080-70c2-4a45-c008-4f92a08cdcbf"
      },
      "execution_count": null,
      "outputs": [
        {
          "output_type": "stream",
          "name": "stdout",
          "text": [
            "Downloading data from https://storage.googleapis.com/tensorflow/tf-keras-datasets/train-labels-idx1-ubyte.gz\n",
            "32768/29515 [=================================] - 0s 0us/step\n",
            "40960/29515 [=========================================] - 0s 0us/step\n",
            "Downloading data from https://storage.googleapis.com/tensorflow/tf-keras-datasets/train-images-idx3-ubyte.gz\n",
            "26427392/26421880 [==============================] - 0s 0us/step\n",
            "26435584/26421880 [==============================] - 0s 0us/step\n",
            "Downloading data from https://storage.googleapis.com/tensorflow/tf-keras-datasets/t10k-labels-idx1-ubyte.gz\n",
            "16384/5148 [===============================================================================================] - 0s 0us/step\n",
            "Downloading data from https://storage.googleapis.com/tensorflow/tf-keras-datasets/t10k-images-idx3-ubyte.gz\n",
            "4423680/4422102 [==============================] - 0s 0us/step\n",
            "4431872/4422102 [==============================] - 0s 0us/step\n"
          ]
        }
      ]
    },
    {
      "cell_type": "code",
      "source": [
        "print(f\"Training sample:\\n{train_data[0]}\\n\")\n",
        "print(f\"Training label: {train_labels[0]}\")"
      ],
      "metadata": {
        "colab": {
          "base_uri": "https://localhost:8080/"
        },
        "id": "6H6nVPXUmgUz",
        "outputId": "c6107462-3b34-4ff7-bb7e-27f49f7960f1"
      },
      "execution_count": null,
      "outputs": [
        {
          "output_type": "stream",
          "name": "stdout",
          "text": [
            "Training sample:\n",
            "[[  0   0   0   0   0   0   0   0   0   0   0   0   0   0   0   0   0   0\n",
            "    0   0   0   0   0   0   0   0   0   0]\n",
            " [  0   0   0   0   0   0   0   0   0   0   0   0   0   0   0   0   0   0\n",
            "    0   0   0   0   0   0   0   0   0   0]\n",
            " [  0   0   0   0   0   0   0   0   0   0   0   0   0   0   0   0   0   0\n",
            "    0   0   0   0   0   0   0   0   0   0]\n",
            " [  0   0   0   0   0   0   0   0   0   0   0   0   1   0   0  13  73   0\n",
            "    0   1   4   0   0   0   0   1   1   0]\n",
            " [  0   0   0   0   0   0   0   0   0   0   0   0   3   0  36 136 127  62\n",
            "   54   0   0   0   1   3   4   0   0   3]\n",
            " [  0   0   0   0   0   0   0   0   0   0   0   0   6   0 102 204 176 134\n",
            "  144 123  23   0   0   0   0  12  10   0]\n",
            " [  0   0   0   0   0   0   0   0   0   0   0   0   0   0 155 236 207 178\n",
            "  107 156 161 109  64  23  77 130  72  15]\n",
            " [  0   0   0   0   0   0   0   0   0   0   0   1   0  69 207 223 218 216\n",
            "  216 163 127 121 122 146 141  88 172  66]\n",
            " [  0   0   0   0   0   0   0   0   0   1   1   1   0 200 232 232 233 229\n",
            "  223 223 215 213 164 127 123 196 229   0]\n",
            " [  0   0   0   0   0   0   0   0   0   0   0   0   0 183 225 216 223 228\n",
            "  235 227 224 222 224 221 223 245 173   0]\n",
            " [  0   0   0   0   0   0   0   0   0   0   0   0   0 193 228 218 213 198\n",
            "  180 212 210 211 213 223 220 243 202   0]\n",
            " [  0   0   0   0   0   0   0   0   0   1   3   0  12 219 220 212 218 192\n",
            "  169 227 208 218 224 212 226 197 209  52]\n",
            " [  0   0   0   0   0   0   0   0   0   0   6   0  99 244 222 220 218 203\n",
            "  198 221 215 213 222 220 245 119 167  56]\n",
            " [  0   0   0   0   0   0   0   0   0   4   0   0  55 236 228 230 228 240\n",
            "  232 213 218 223 234 217 217 209  92   0]\n",
            " [  0   0   1   4   6   7   2   0   0   0   0   0 237 226 217 223 222 219\n",
            "  222 221 216 223 229 215 218 255  77   0]\n",
            " [  0   3   0   0   0   0   0   0   0  62 145 204 228 207 213 221 218 208\n",
            "  211 218 224 223 219 215 224 244 159   0]\n",
            " [  0   0   0   0  18  44  82 107 189 228 220 222 217 226 200 205 211 230\n",
            "  224 234 176 188 250 248 233 238 215   0]\n",
            " [  0  57 187 208 224 221 224 208 204 214 208 209 200 159 245 193 206 223\n",
            "  255 255 221 234 221 211 220 232 246   0]\n",
            " [  3 202 228 224 221 211 211 214 205 205 205 220 240  80 150 255 229 221\n",
            "  188 154 191 210 204 209 222 228 225   0]\n",
            " [ 98 233 198 210 222 229 229 234 249 220 194 215 217 241  65  73 106 117\n",
            "  168 219 221 215 217 223 223 224 229  29]\n",
            " [ 75 204 212 204 193 205 211 225 216 185 197 206 198 213 240 195 227 245\n",
            "  239 223 218 212 209 222 220 221 230  67]\n",
            " [ 48 203 183 194 213 197 185 190 194 192 202 214 219 221 220 236 225 216\n",
            "  199 206 186 181 177 172 181 205 206 115]\n",
            " [  0 122 219 193 179 171 183 196 204 210 213 207 211 210 200 196 194 191\n",
            "  195 191 198 192 176 156 167 177 210  92]\n",
            " [  0   0  74 189 212 191 175 172 175 181 185 188 189 188 193 198 204 209\n",
            "  210 210 211 188 188 194 192 216 170   0]\n",
            " [  2   0   0   0  66 200 222 237 239 242 246 243 244 221 220 193 191 179\n",
            "  182 182 181 176 166 168  99  58   0   0]\n",
            " [  0   0   0   0   0   0   0  40  61  44  72  41  35   0   0   0   0   0\n",
            "    0   0   0   0   0   0   0   0   0   0]\n",
            " [  0   0   0   0   0   0   0   0   0   0   0   0   0   0   0   0   0   0\n",
            "    0   0   0   0   0   0   0   0   0   0]\n",
            " [  0   0   0   0   0   0   0   0   0   0   0   0   0   0   0   0   0   0\n",
            "    0   0   0   0   0   0   0   0   0   0]]\n",
            "\n",
            "Training label: 9\n"
          ]
        }
      ]
    },
    {
      "cell_type": "code",
      "source": [
        "import matplotlib.pyplot as plt\n",
        "plt.imshow(train_data[7]);"
      ],
      "metadata": {
        "colab": {
          "base_uri": "https://localhost:8080/",
          "height": 265
        },
        "id": "xoo5sOSZn3E_",
        "outputId": "73e71a64-6926-486e-8ffa-fb4b483663ab"
      },
      "execution_count": null,
      "outputs": [
        {
          "output_type": "display_data",
          "data": {
            "image/png": "[encoded data removed]",
            "text/plain": [
              "<Figure size 432x288 with 1 Axes>"
            ]
          },
          "metadata": {
            "needs_background": "light"
          }
        }
      ]
    },
    {
      "cell_type": "code",
      "source": [
        "train_labels[7]"
      ],
      "metadata": {
        "colab": {
          "base_uri": "https://localhost:8080/"
        },
        "id": "sHV3uPC5ob7K",
        "outputId": "1006e336-ad4c-4ee0-bc97-9e67ec1501d8"
      },
      "execution_count": null,
      "outputs": [
        {
          "output_type": "execute_result",
          "data": {
            "text/plain": [
              "2"
            ]
          },
          "metadata": {},
          "execution_count": 44
        }
      ]
    },
    {
      "cell_type": "code",
      "source": [
        "class_names = ['T-shirt/top', 'Trouser', 'Pullover', 'Dress', 'Coat', \n",
        "               'Sandal', 'Shirt', 'Sneaker', 'Bag', 'Ankle boot']\n",
        "\n",
        "len(class_names)               "
      ],
      "metadata": {
        "colab": {
          "base_uri": "https://localhost:8080/"
        },
        "id": "Mo3CZzmrofHA",
        "outputId": "59d1bdc5-143f-4fbf-815a-5e6549f912d6"
      },
      "execution_count": null,
      "outputs": [
        {
          "output_type": "execute_result",
          "data": {
            "text/plain": [
              "10"
            ]
          },
          "metadata": {},
          "execution_count": 2
        }
      ]
    },
    {
      "cell_type": "code",
      "source": [
        "plt.imshow(train_data[17], cmap=plt.cm.binary)\n",
        "plt.title(class_names[train_labels[17]])"
      ],
      "metadata": {
        "colab": {
          "base_uri": "https://localhost:8080/",
          "height": 298
        },
        "id": "75B3Vixyou0j",
        "outputId": "280d2f86-2d0b-4d1a-9df1-558d8fe3f0a8"
      },
      "execution_count": null,
      "outputs": [
        {
          "output_type": "execute_result",
          "data": {
            "text/plain": [
              "Text(0.5, 1.0, 'T-shirt/top')"
            ]
          },
          "metadata": {},
          "execution_count": 46
        },
        {
          "output_type": "display_data",
          "data": {
            "image/png": "[encoded data removed]",
            "text/plain": [
              "<Figure size 432x288 with 1 Axes>"
            ]
          },
          "metadata": {
            "needs_background": "light"
          }
        }
      ]
    },
    {
      "cell_type": "code",
      "source": [
        "import random\n",
        "\n",
        "plt.figure(figsize=(7,7))\n",
        "for i in range(4):\n",
        "  ax = plt.subplot(2,2,i+1)\n",
        "  rand_index=random.choice(range(len(train_data)))\n",
        "  plt.imshow(train_data[rand_index], cmap=plt.cm.binary)\n",
        "  plt.title(class_names[train_labels[rand_index]])\n",
        "  plt.axis(False)"
      ],
      "metadata": {
        "colab": {
          "base_uri": "https://localhost:8080/",
          "height": 427
        },
        "id": "sfad5Ut_pGa1",
        "outputId": "f6a93aa2-fa54-4da2-8461-53b7e5fd499f"
      },
      "execution_count": null,
      "outputs": [
        {
          "output_type": "display_data",
          "data": {
            "image/png": "[encoded data removed]",
            "text/plain": [
              "<Figure size 504x504 with 4 Axes>"
            ]
          },
          "metadata": {
            "needs_background": "light"
          }
        }
      ]
    },
    {
      "cell_type": "code",
      "source": [
        "tf.random.set_seed(42)\n",
        "\n",
        "model_11 = tf.keras.Sequential([\n",
        "                                tf.keras.layers.Flatten(input_shape=(28,28)),\n",
        "                                tf.keras.layers.Dense(4, activation=\"relu\"),\n",
        "                                tf.keras.layers.Dense(4, activation=\"relu\"),\n",
        "                                tf.keras.layers.Dense(10, activation=\"softmax\")\n",
        "])\n",
        "\n",
        "model_11.compile(loss = tf.keras.losses.SparseCategoricalCrossentropy(),\n",
        "                 optimizer = tf.keras.optimizers.Adam(),\n",
        "                 metrics=[\"accuracy\"])\n",
        "\n",
        "non_norm_history=model_11.fit(train_data, train_labels, epochs=10, validation_data=(test_data, test_labels))"
      ],
      "metadata": {
        "id": "GDtw-QJ_pw5N",
        "colab": {
          "base_uri": "https://localhost:8080/"
        },
        "outputId": "7eb7a7e2-386d-4be2-f472-4fd5c641d131"
      },
      "execution_count": null,
      "outputs": [
        {
          "output_type": "stream",
          "name": "stdout",
          "text": [
            "Epoch 1/10\n",
            "1875/1875 [==============================] - 7s 3ms/step - loss: 2.1772 - accuracy: 0.1593 - val_loss: 1.8122 - val_accuracy: 0.2049\n",
            "Epoch 2/10\n",
            "1875/1875 [==============================] - 6s 3ms/step - loss: 1.7162 - accuracy: 0.2447 - val_loss: 1.6517 - val_accuracy: 0.2895\n",
            "Epoch 3/10\n",
            "1875/1875 [==============================] - 7s 4ms/step - loss: 1.6362 - accuracy: 0.2834 - val_loss: 1.6411 - val_accuracy: 0.3092\n",
            "Epoch 4/10\n",
            "1875/1875 [==============================] - 7s 4ms/step - loss: 1.6066 - accuracy: 0.2948 - val_loss: 1.6071 - val_accuracy: 0.2957\n",
            "Epoch 5/10\n",
            "1875/1875 [==============================] - 6s 3ms/step - loss: 1.6069 - accuracy: 0.3020 - val_loss: 1.5915 - val_accuracy: 0.2866\n",
            "Epoch 6/10\n",
            "1875/1875 [==============================] - 7s 4ms/step - loss: 1.5841 - accuracy: 0.3118 - val_loss: 1.5669 - val_accuracy: 0.3257\n",
            "Epoch 7/10\n",
            "1875/1875 [==============================] - 6s 3ms/step - loss: 1.5818 - accuracy: 0.3174 - val_loss: 1.5601 - val_accuracy: 0.3289\n",
            "Epoch 8/10\n",
            "1875/1875 [==============================] - 6s 3ms/step - loss: 1.5784 - accuracy: 0.3148 - val_loss: 1.5766 - val_accuracy: 0.3262\n",
            "Epoch 9/10\n",
            "1875/1875 [==============================] - 6s 3ms/step - loss: 1.5713 - accuracy: 0.3250 - val_loss: 1.5652 - val_accuracy: 0.3138\n",
            "Epoch 10/10\n",
            "1875/1875 [==============================] - 7s 3ms/step - loss: 1.5689 - accuracy: 0.3201 - val_loss: 1.5680 - val_accuracy: 0.3045\n"
          ]
        }
      ]
    },
    {
      "cell_type": "code",
      "source": [
        "train_data = train_data/255.0\n",
        "test_data = test_data/255.0"
      ],
      "metadata": {
        "id": "kdECKUjZGrJy"
      },
      "execution_count": null,
      "outputs": []
    },
    {
      "cell_type": "code",
      "source": [
        "tf.random.set_seed(42)\n",
        "\n",
        "model_12 = tf.keras.Sequential([\n",
        "                                tf.keras.layers.Flatten(input_shape=(28,28)),\n",
        "                                tf.keras.layers.Dense(4,activation=\"relu\"),\n",
        "                                tf.keras.layers.Dense(4,activation=\"relu\"),\n",
        "                                tf.keras.layers.Dense(10,activation=\"softmax\")\n",
        "])\n",
        "\n",
        "model_12.compile(loss = tf.keras.losses.SparseCategoricalCrossentropy(),\n",
        "                 optimizer = tf.keras.optimizers.Adam(),\n",
        "                 metrics = [\"accuracy\"])\n",
        "\n",
        "norm_history = model_12.fit(train_data,train_labels,epochs=10,validation_data=(test_data,test_labels))"
      ],
      "metadata": {
        "colab": {
          "base_uri": "https://localhost:8080/"
        },
        "id": "k9Feu3wFIVAE",
        "outputId": "f99f15a8-339c-4bba-a9ba-d14f5e386336"
      },
      "execution_count": null,
      "outputs": [
        {
          "output_type": "stream",
          "name": "stdout",
          "text": [
            "Epoch 1/10\n",
            "1875/1875 [==============================] - 7s 4ms/step - loss: 1.0348 - accuracy: 0.6474 - val_loss: 0.6937 - val_accuracy: 0.7617\n",
            "Epoch 2/10\n",
            "1875/1875 [==============================] - 6s 3ms/step - loss: 0.6376 - accuracy: 0.7757 - val_loss: 0.6400 - val_accuracy: 0.7820\n",
            "Epoch 3/10\n",
            "1875/1875 [==============================] - 6s 3ms/step - loss: 0.5942 - accuracy: 0.7914 - val_loss: 0.6247 - val_accuracy: 0.7783\n",
            "Epoch 4/10\n",
            "1875/1875 [==============================] - 9s 5ms/step - loss: 0.5750 - accuracy: 0.7979 - val_loss: 0.6078 - val_accuracy: 0.7881\n",
            "Epoch 5/10\n",
            "1875/1875 [==============================] - 9s 5ms/step - loss: 0.5641 - accuracy: 0.8006 - val_loss: 0.6169 - val_accuracy: 0.7881\n",
            "Epoch 6/10\n",
            "1875/1875 [==============================] - 11s 6ms/step - loss: 0.5544 - accuracy: 0.8043 - val_loss: 0.5855 - val_accuracy: 0.7951\n",
            "Epoch 7/10\n",
            "1875/1875 [==============================] - 11s 6ms/step - loss: 0.5488 - accuracy: 0.8063 - val_loss: 0.6097 - val_accuracy: 0.7836\n",
            "Epoch 8/10\n",
            "1875/1875 [==============================] - 12s 6ms/step - loss: 0.5428 - accuracy: 0.8077 - val_loss: 0.5787 - val_accuracy: 0.7971\n",
            "Epoch 9/10\n",
            "1875/1875 [==============================] - 10s 6ms/step - loss: 0.5373 - accuracy: 0.8097 - val_loss: 0.5698 - val_accuracy: 0.7977\n",
            "Epoch 10/10\n",
            "1875/1875 [==============================] - 10s 5ms/step - loss: 0.5360 - accuracy: 0.8124 - val_loss: 0.5658 - val_accuracy: 0.8014\n"
          ]
        }
      ]
    },
    {
      "cell_type": "code",
      "source": [
        "import pandas as pd\n",
        "\n",
        "pd.DataFrame(non_norm_history.history).plot(title=\"Non normalized\")\n",
        "pd.DataFrame(norm_history.history).plot(title=\"Normalized\")\n",
        "\n"
      ],
      "metadata": {
        "colab": {
          "base_uri": "https://localhost:8080/",
          "height": 562
        },
        "id": "tf4hbiQyJK3r",
        "outputId": "3250a521-ec7a-4636-ce84-841ac3e78165"
      },
      "execution_count": null,
      "outputs": [
        {
          "output_type": "execute_result",
          "data": {
            "text/plain": [
              "<matplotlib.axes._subplots.AxesSubplot at 0x7f355bb26550>"
            ]
          },
          "metadata": {},
          "execution_count": 15
        },
        {
          "output_type": "display_data",
          "data": {
            "image/png": "[encoded data removed]",
            "text/plain": [
              "<Figure size 432x288 with 1 Axes>"
            ]
          },
          "metadata": {
            "needs_background": "light"
          }
        },
        {
          "output_type": "display_data",
          "data": {
            "image/png": "[encoded data removed]",
            "text/plain": [
              "<Figure size 432x288 with 1 Axes>"
            ]
          },
          "metadata": {
            "needs_background": "light"
          }
        }
      ]
    },
    {
      "cell_type": "code",
      "source": [
        "tf.random.set_seed(42)\n",
        "\n",
        "model_13 = tf.keras.Sequential([\n",
        "                 tf.keras.layers.Flatten(input_shape=(28,28)),\n",
        "                 tf.keras.layers.Dense(4, activation=\"relu\"),\n",
        "                 tf.keras.layers.Dense(4, activation=\"relu\"),\n",
        "                 tf.keras.layers.Dense(10, activation=\"softmax\")               \n",
        "])\n",
        "\n",
        "model_13.compile(loss = tf.keras.losses.SparseCategoricalCrossentropy(),\n",
        "                 optimizer = tf.keras.optimizers.Adam(),\n",
        "                 metrics = [\"accuracy\"])\n",
        "\n",
        "lr_scheduler = tf.keras.callbacks.LearningRateScheduler(lambda epoch: 1e-3 * 10**(epoch/20))\n",
        "find_lr_history = model_13.fit(train_data, train_labels, epochs=40, validation_data=(test_data, test_labels), callbacks = [lr_scheduler])"
      ],
      "metadata": {
        "id": "1_RNbvfxKh8F",
        "colab": {
          "base_uri": "https://localhost:8080/"
        },
        "outputId": "1d817e4a-ed75-4b9b-9598-844cc817cf3a"
      },
      "execution_count": null,
      "outputs": [
        {
          "output_type": "stream",
          "name": "stdout",
          "text": [
            "Epoch 1/40\n",
            "1875/1875 [==============================] - 9s 4ms/step - loss: 2.1772 - accuracy: 0.1593 - val_loss: 1.8122 - val_accuracy: 0.2049 - lr: 0.0010\n",
            "Epoch 2/40\n",
            "1875/1875 [==============================] - 6s 3ms/step - loss: 1.7222 - accuracy: 0.2458 - val_loss: 1.6501 - val_accuracy: 0.2775 - lr: 0.0011\n",
            "Epoch 3/40\n",
            "1875/1875 [==============================] - 6s 3ms/step - loss: 1.6344 - accuracy: 0.2868 - val_loss: 1.6535 - val_accuracy: 0.2808 - lr: 0.0013\n",
            "Epoch 4/40\n",
            "1875/1875 [==============================] - 6s 3ms/step - loss: 1.6087 - accuracy: 0.2995 - val_loss: 1.5801 - val_accuracy: 0.3208 - lr: 0.0014\n",
            "Epoch 5/40\n",
            "1875/1875 [==============================] - 6s 3ms/step - loss: 1.5968 - accuracy: 0.3083 - val_loss: 1.5937 - val_accuracy: 0.3279 - lr: 0.0016\n",
            "Epoch 6/40\n",
            "1875/1875 [==============================] - 7s 4ms/step - loss: 1.5916 - accuracy: 0.3174 - val_loss: 1.5844 - val_accuracy: 0.3015 - lr: 0.0018\n",
            "Epoch 7/40\n",
            "1875/1875 [==============================] - 7s 4ms/step - loss: 1.5975 - accuracy: 0.3154 - val_loss: 1.6051 - val_accuracy: 0.3243 - lr: 0.0020\n",
            "Epoch 8/40\n",
            "1875/1875 [==============================] - 7s 4ms/step - loss: 1.6083 - accuracy: 0.3087 - val_loss: 1.6238 - val_accuracy: 0.3227 - lr: 0.0022\n",
            "Epoch 9/40\n",
            "1875/1875 [==============================] - 6s 3ms/step - loss: 1.6080 - accuracy: 0.3119 - val_loss: 1.5763 - val_accuracy: 0.3274 - lr: 0.0025\n",
            "Epoch 10/40\n",
            "1875/1875 [==============================] - 7s 4ms/step - loss: 1.5939 - accuracy: 0.3176 - val_loss: 1.5904 - val_accuracy: 0.3297 - lr: 0.0028\n",
            "Epoch 11/40\n",
            "1875/1875 [==============================] - 6s 3ms/step - loss: 1.5923 - accuracy: 0.3194 - val_loss: 1.5929 - val_accuracy: 0.3205 - lr: 0.0032\n",
            "Epoch 12/40\n",
            "1875/1875 [==============================] - 7s 4ms/step - loss: 1.5876 - accuracy: 0.3228 - val_loss: 1.6093 - val_accuracy: 0.2934 - lr: 0.0035\n",
            "Epoch 13/40\n",
            "1875/1875 [==============================] - 7s 4ms/step - loss: 1.5907 - accuracy: 0.3065 - val_loss: 1.5696 - val_accuracy: 0.3203 - lr: 0.0040\n",
            "Epoch 14/40\n",
            "1875/1875 [==============================] - 7s 4ms/step - loss: 1.5806 - accuracy: 0.3147 - val_loss: 1.5575 - val_accuracy: 0.3295 - lr: 0.0045\n",
            "Epoch 15/40\n",
            "1875/1875 [==============================] - 6s 3ms/step - loss: 1.5939 - accuracy: 0.3124 - val_loss: 1.5665 - val_accuracy: 0.3206 - lr: 0.0050\n",
            "Epoch 16/40\n",
            "1875/1875 [==============================] - 7s 4ms/step - loss: 1.5901 - accuracy: 0.3165 - val_loss: 1.6027 - val_accuracy: 0.3204 - lr: 0.0056\n",
            "Epoch 17/40\n",
            "1875/1875 [==============================] - 6s 3ms/step - loss: 1.6102 - accuracy: 0.3029 - val_loss: 1.5789 - val_accuracy: 0.3143 - lr: 0.0063\n",
            "Epoch 18/40\n",
            "1875/1875 [==============================] - 7s 4ms/step - loss: 1.6058 - accuracy: 0.3047 - val_loss: 1.5561 - val_accuracy: 0.3336 - lr: 0.0071\n",
            "Epoch 19/40\n",
            "1875/1875 [==============================] - 7s 4ms/step - loss: 1.6113 - accuracy: 0.3066 - val_loss: 1.5743 - val_accuracy: 0.3135 - lr: 0.0079\n",
            "Epoch 20/40\n",
            "1875/1875 [==============================] - 6s 3ms/step - loss: 1.6190 - accuracy: 0.3065 - val_loss: 1.6121 - val_accuracy: 0.3270 - lr: 0.0089\n",
            "Epoch 21/40\n",
            "1875/1875 [==============================] - 7s 4ms/step - loss: 1.6484 - accuracy: 0.3089 - val_loss: 1.6586 - val_accuracy: 0.3171 - lr: 0.0100\n",
            "Epoch 22/40\n",
            "1875/1875 [==============================] - 7s 4ms/step - loss: 1.9168 - accuracy: 0.2009 - val_loss: 1.8597 - val_accuracy: 0.1945 - lr: 0.0112\n",
            "Epoch 23/40\n",
            "1875/1875 [==============================] - 6s 3ms/step - loss: 1.8598 - accuracy: 0.1920 - val_loss: 1.8586 - val_accuracy: 0.1891 - lr: 0.0126\n",
            "Epoch 24/40\n",
            "1875/1875 [==============================] - 6s 3ms/step - loss: 1.8601 - accuracy: 0.1927 - val_loss: 1.8580 - val_accuracy: 0.1945 - lr: 0.0141\n",
            "Epoch 25/40\n",
            "1875/1875 [==============================] - 7s 4ms/step - loss: 1.8600 - accuracy: 0.1962 - val_loss: 1.8577 - val_accuracy: 0.1942 - lr: 0.0158\n",
            "Epoch 26/40\n",
            "1875/1875 [==============================] - 6s 3ms/step - loss: 1.8608 - accuracy: 0.1917 - val_loss: 1.8592 - val_accuracy: 0.1958 - lr: 0.0178\n",
            "Epoch 27/40\n",
            "1875/1875 [==============================] - 6s 3ms/step - loss: 1.8602 - accuracy: 0.1948 - val_loss: 1.8657 - val_accuracy: 0.1958 - lr: 0.0200\n",
            "Epoch 28/40\n",
            "1875/1875 [==============================] - 7s 4ms/step - loss: 1.8613 - accuracy: 0.1907 - val_loss: 1.8628 - val_accuracy: 0.1958 - lr: 0.0224\n",
            "Epoch 29/40\n",
            "1875/1875 [==============================] - 7s 4ms/step - loss: 1.8620 - accuracy: 0.1930 - val_loss: 1.8574 - val_accuracy: 0.1945 - lr: 0.0251\n",
            "Epoch 30/40\n",
            "1875/1875 [==============================] - 6s 3ms/step - loss: 1.8629 - accuracy: 0.1930 - val_loss: 1.8642 - val_accuracy: 0.1958 - lr: 0.0282\n",
            "Epoch 31/40\n",
            "1875/1875 [==============================] - 7s 4ms/step - loss: 1.8631 - accuracy: 0.1931 - val_loss: 1.8593 - val_accuracy: 0.1945 - lr: 0.0316\n",
            "Epoch 32/40\n",
            "1875/1875 [==============================] - 7s 4ms/step - loss: 1.8641 - accuracy: 0.1929 - val_loss: 1.8624 - val_accuracy: 0.1957 - lr: 0.0355\n",
            "Epoch 33/40\n",
            "1875/1875 [==============================] - 6s 3ms/step - loss: 1.8651 - accuracy: 0.1904 - val_loss: 1.8616 - val_accuracy: 0.1891 - lr: 0.0398\n",
            "Epoch 34/40\n",
            "1875/1875 [==============================] - 7s 4ms/step - loss: 1.8659 - accuracy: 0.1929 - val_loss: 1.8709 - val_accuracy: 0.1945 - lr: 0.0447\n",
            "Epoch 35/40\n",
            "1875/1875 [==============================] - 7s 4ms/step - loss: 1.8673 - accuracy: 0.1944 - val_loss: 1.8633 - val_accuracy: 0.1944 - lr: 0.0501\n",
            "Epoch 36/40\n",
            "1875/1875 [==============================] - 7s 4ms/step - loss: 1.8686 - accuracy: 0.1909 - val_loss: 1.8689 - val_accuracy: 0.1945 - lr: 0.0562\n",
            "Epoch 37/40\n",
            "1875/1875 [==============================] - 6s 3ms/step - loss: 1.8700 - accuracy: 0.1923 - val_loss: 1.8630 - val_accuracy: 0.1945 - lr: 0.0631\n",
            "Epoch 38/40\n",
            "1875/1875 [==============================] - 6s 3ms/step - loss: 1.8717 - accuracy: 0.1907 - val_loss: 1.8646 - val_accuracy: 0.1945 - lr: 0.0708\n",
            "Epoch 39/40\n",
            "1875/1875 [==============================] - 6s 3ms/step - loss: 1.8733 - accuracy: 0.1900 - val_loss: 1.8714 - val_accuracy: 0.1942 - lr: 0.0794\n",
            "Epoch 40/40\n",
            "1875/1875 [==============================] - 7s 4ms/step - loss: 1.8743 - accuracy: 0.1921 - val_loss: 1.8709 - val_accuracy: 0.1942 - lr: 0.0891\n"
          ]
        }
      ]
    },
    {
      "cell_type": "code",
      "source": [
        "import matplotlib.pyplot as plt\n",
        "import numpy as np\n",
        "lrs = 1e-3 * (10**(np.arange(40)/20))\n",
        "plt.semilogx(lrs, find_lr_history.history[\"loss\"])\n",
        "plt.xlabel(\"learning rate\")\n",
        "plt.ylabel(\"loss\")"
      ],
      "metadata": {
        "colab": {
          "base_uri": "https://localhost:8080/",
          "height": 302
        },
        "id": "UT_uEgRpolE5",
        "outputId": "ceaef37f-8a0b-4010-8022-c97b3625faa4"
      },
      "execution_count": null,
      "outputs": [
        {
          "output_type": "execute_result",
          "data": {
            "text/plain": [
              "Text(0, 0.5, 'loss')"
            ]
          },
          "metadata": {},
          "execution_count": 9
        },
        {
          "output_type": "display_data",
          "data": {
            "image/png": "[encoded data removed]",
            "text/plain": [
              "<Figure size 432x288 with 1 Axes>"
            ]
          },
          "metadata": {
            "needs_background": "light"
          }
        }
      ]
    },
    {
      "cell_type": "code",
      "source": [
        "tf.random.set_seed(42)\n",
        "\n",
        "model_14 = tf.keras.Sequential([\n",
        "  tf.keras.layers.Flatten(input_shape=(28, 28)), # input layer (we had to reshape 28x28 to 784)\n",
        "  tf.keras.layers.Dense(4, activation=\"relu\"),\n",
        "  tf.keras.layers.Dense(4, activation=\"relu\"),\n",
        "  tf.keras.layers.Dense(10, activation=\"softmax\") # output shape is 10, activation is softmax\n",
        "])\n",
        "\n",
        "model_14.compile(loss=tf.keras.losses.SparseCategoricalCrossentropy(),\n",
        "                 optimizer=tf.keras.optimizers.Adam(lr=0.001), # ideal learning rate (same as default)\n",
        "                 metrics=[\"accuracy\"])\n",
        "\n",
        "history = model_14.fit(train_data,\n",
        "                       train_labels,\n",
        "                       epochs=20,\n",
        "                       validation_data=(test_data, test_labels))"
      ],
      "metadata": {
        "colab": {
          "base_uri": "https://localhost:8080/"
        },
        "id": "gVKplK-Crw54",
        "outputId": "8b6d716e-aaac-4adc-9f95-b2575a559003"
      },
      "execution_count": null,
      "outputs": [
        {
          "output_type": "stream",
          "name": "stdout",
          "text": [
            "Epoch 1/20\n"
          ]
        },
        {
          "output_type": "stream",
          "name": "stderr",
          "text": [
            "/usr/local/lib/python3.7/dist-packages/keras/optimizer_v2/adam.py:105: UserWarning: The `lr` argument is deprecated, use `learning_rate` instead.\n",
            "  super(Adam, self).__init__(name, **kwargs)\n"
          ]
        },
        {
          "output_type": "stream",
          "name": "stdout",
          "text": [
            "1875/1875 [==============================] - 9s 4ms/step - loss: 2.1772 - accuracy: 0.1593 - val_loss: 1.8122 - val_accuracy: 0.2049\n",
            "Epoch 2/20\n",
            "1875/1875 [==============================] - 7s 4ms/step - loss: 1.7162 - accuracy: 0.2447 - val_loss: 1.6517 - val_accuracy: 0.2895\n",
            "Epoch 3/20\n",
            "1875/1875 [==============================] - 6s 3ms/step - loss: 1.6362 - accuracy: 0.2834 - val_loss: 1.6411 - val_accuracy: 0.3092\n",
            "Epoch 4/20\n",
            "1875/1875 [==============================] - 7s 4ms/step - loss: 1.6066 - accuracy: 0.2948 - val_loss: 1.6071 - val_accuracy: 0.2957\n",
            "Epoch 5/20\n",
            "1875/1875 [==============================] - 7s 3ms/step - loss: 1.6069 - accuracy: 0.3020 - val_loss: 1.5915 - val_accuracy: 0.2866\n",
            "Epoch 6/20\n",
            "1875/1875 [==============================] - 6s 3ms/step - loss: 1.5841 - accuracy: 0.3118 - val_loss: 1.5669 - val_accuracy: 0.3257\n",
            "Epoch 7/20\n",
            "1875/1875 [==============================] - 6s 3ms/step - loss: 1.5818 - accuracy: 0.3174 - val_loss: 1.5601 - val_accuracy: 0.3289\n",
            "Epoch 8/20\n",
            "1875/1875 [==============================] - 6s 3ms/step - loss: 1.5784 - accuracy: 0.3148 - val_loss: 1.5766 - val_accuracy: 0.3262\n",
            "Epoch 9/20\n",
            "1875/1875 [==============================] - 6s 3ms/step - loss: 1.5713 - accuracy: 0.3250 - val_loss: 1.5652 - val_accuracy: 0.3138\n",
            "Epoch 10/20\n",
            "1875/1875 [==============================] - 7s 4ms/step - loss: 1.5689 - accuracy: 0.3201 - val_loss: 1.5680 - val_accuracy: 0.3045\n",
            "Epoch 11/20\n",
            "1875/1875 [==============================] - 6s 3ms/step - loss: 1.5637 - accuracy: 0.3223 - val_loss: 1.5795 - val_accuracy: 0.3194\n",
            "Epoch 12/20\n",
            "1875/1875 [==============================] - 6s 3ms/step - loss: 1.5631 - accuracy: 0.3286 - val_loss: 1.5501 - val_accuracy: 0.3307\n",
            "Epoch 13/20\n",
            "1875/1875 [==============================] - 7s 4ms/step - loss: 1.5640 - accuracy: 0.3229 - val_loss: 1.5558 - val_accuracy: 0.3357\n",
            "Epoch 14/20\n",
            "1875/1875 [==============================] - 7s 4ms/step - loss: 1.5642 - accuracy: 0.3268 - val_loss: 1.5565 - val_accuracy: 0.3354\n",
            "Epoch 15/20\n",
            "1875/1875 [==============================] - 6s 3ms/step - loss: 1.5685 - accuracy: 0.3268 - val_loss: 1.5605 - val_accuracy: 0.3370\n",
            "Epoch 16/20\n",
            "1875/1875 [==============================] - 7s 4ms/step - loss: 1.5654 - accuracy: 0.3307 - val_loss: 1.5756 - val_accuracy: 0.3322\n",
            "Epoch 17/20\n",
            "1875/1875 [==============================] - 7s 4ms/step - loss: 1.5680 - accuracy: 0.3268 - val_loss: 1.5527 - val_accuracy: 0.3344\n",
            "Epoch 18/20\n",
            "1875/1875 [==============================] - 7s 4ms/step - loss: 1.5615 - accuracy: 0.3271 - val_loss: 1.5647 - val_accuracy: 0.3309\n",
            "Epoch 19/20\n",
            "1875/1875 [==============================] - 6s 3ms/step - loss: 1.5585 - accuracy: 0.3286 - val_loss: 1.5507 - val_accuracy: 0.3334\n",
            "Epoch 20/20\n",
            "1875/1875 [==============================] - 7s 3ms/step - loss: 1.5600 - accuracy: 0.3260 - val_loss: 1.5574 - val_accuracy: 0.3355\n"
          ]
        }
      ]
    },
    {
      "cell_type": "code",
      "source": [
        "from sklearn import datasets\n",
        "import matplotlib.pyplot as plt\n",
        "\n",
        "X,y = datasets.make_moons()\n",
        "\n",
        "plt.scatter(X[:, 0], X[:, 1], c=y, cmap=plt.cm.RdYlBu);"
      ],
      "metadata": {
        "colab": {
          "base_uri": "https://localhost:8080/",
          "height": 265
        },
        "id": "QI2v52nMw-8Q",
        "outputId": "4fc9751b-332f-4360-dc31-2a632089baa2"
      },
      "execution_count": null,
      "outputs": [
        {
          "output_type": "display_data",
          "data": {
            "image/png": "[encoded data removed]",
            "text/plain": [
              "<Figure size 432x288 with 1 Axes>"
            ]
          },
          "metadata": {
            "needs_background": "light"
          }
        }
      ]
    },
    {
      "cell_type": "code",
      "source": [
        "from sklearn.model_selection import train_test_split\n",
        "\n",
        "X_train, X_test, y_train, y_test = train_test_split(X, y, test_size=0.33, random_state=42)"
      ],
      "metadata": {
        "id": "klfrgtnXbwMa"
      },
      "execution_count": null,
      "outputs": []
    },
    {
      "cell_type": "code",
      "source": [
        "import tensorflow as tf\n",
        "\n",
        "tf.random.set_seed(42)\n",
        "\n",
        "model = tf.keras.Sequential([\n",
        "                    tf.keras.layers.Dense(100, activation=\"relu\"),\n",
        "                    tf.keras.layers.Dense(100, activation=\"relu\"),\n",
        "                    tf.keras.layers.Dense(100, activation=\"relu\"),\n",
        "                    tf.keras.layers.Dense(1, activation=\"sigmoid\")         \n",
        "])\n",
        "\n",
        "model.compile(loss = tf.keras.losses.binary_crossentropy,\n",
        "              optimizer = tf.keras.optimizers.Adam(),\n",
        "              metrics = [\"accuracy\"])\n",
        "\n",
        "model.fit(X_train,y_train,epochs=100, validation_data=(X_test, y_test))"
      ],
      "metadata": {
        "colab": {
          "base_uri": "https://localhost:8080/"
        },
        "id": "PwqnuK-hxw3K",
        "outputId": "d92f8a39-0c8c-4623-963a-840903fae0d4"
      },
      "execution_count": null,
      "outputs": [
        {
          "output_type": "stream",
          "name": "stdout",
          "text": [
            "Epoch 1/100\n",
            "3/3 [==============================] - 2s 188ms/step - loss: 0.6854 - accuracy: 0.4328 - val_loss: 0.6459 - val_accuracy: 0.8485\n",
            "Epoch 2/100\n",
            "3/3 [==============================] - 0s 52ms/step - loss: 0.6522 - accuracy: 0.7463 - val_loss: 0.6107 - val_accuracy: 0.8485\n",
            "Epoch 3/100\n",
            "3/3 [==============================] - 0s 41ms/step - loss: 0.6277 - accuracy: 0.7910 - val_loss: 0.5808 - val_accuracy: 0.8485\n",
            "Epoch 4/100\n",
            "3/3 [==============================] - 0s 36ms/step - loss: 0.6039 - accuracy: 0.7910 - val_loss: 0.5480 - val_accuracy: 0.8788\n",
            "Epoch 5/100\n",
            "3/3 [==============================] - 0s 28ms/step - loss: 0.5785 - accuracy: 0.7910 - val_loss: 0.5143 - val_accuracy: 0.9091\n",
            "Epoch 6/100\n",
            "3/3 [==============================] - 0s 32ms/step - loss: 0.5524 - accuracy: 0.7910 - val_loss: 0.4803 - val_accuracy: 0.9394\n",
            "Epoch 7/100\n",
            "3/3 [==============================] - 0s 37ms/step - loss: 0.5240 - accuracy: 0.7910 - val_loss: 0.4419 - val_accuracy: 0.9394\n",
            "Epoch 8/100\n",
            "3/3 [==============================] - 0s 37ms/step - loss: 0.4941 - accuracy: 0.7910 - val_loss: 0.4039 - val_accuracy: 0.9394\n",
            "Epoch 9/100\n",
            "3/3 [==============================] - 0s 39ms/step - loss: 0.4632 - accuracy: 0.7910 - val_loss: 0.3688 - val_accuracy: 0.9394\n",
            "Epoch 10/100\n",
            "3/3 [==============================] - 0s 37ms/step - loss: 0.4344 - accuracy: 0.8209 - val_loss: 0.3425 - val_accuracy: 0.9394\n",
            "Epoch 11/100\n",
            "3/3 [==============================] - 0s 43ms/step - loss: 0.4059 - accuracy: 0.8209 - val_loss: 0.3279 - val_accuracy: 0.9697\n",
            "Epoch 12/100\n",
            "3/3 [==============================] - 0s 36ms/step - loss: 0.3845 - accuracy: 0.8358 - val_loss: 0.3107 - val_accuracy: 0.9394\n",
            "Epoch 13/100\n",
            "3/3 [==============================] - 0s 42ms/step - loss: 0.3661 - accuracy: 0.8358 - val_loss: 0.3005 - val_accuracy: 0.9091\n",
            "Epoch 14/100\n",
            "3/3 [==============================] - 0s 34ms/step - loss: 0.3503 - accuracy: 0.8358 - val_loss: 0.2877 - val_accuracy: 0.9091\n",
            "Epoch 15/100\n",
            "3/3 [==============================] - 0s 39ms/step - loss: 0.3365 - accuracy: 0.8358 - val_loss: 0.2843 - val_accuracy: 0.9091\n",
            "Epoch 16/100\n",
            "3/3 [==============================] - 0s 36ms/step - loss: 0.3258 - accuracy: 0.8209 - val_loss: 0.2668 - val_accuracy: 0.9091\n",
            "Epoch 17/100\n",
            "3/3 [==============================] - 0s 39ms/step - loss: 0.3151 - accuracy: 0.8358 - val_loss: 0.2427 - val_accuracy: 0.9091\n",
            "Epoch 18/100\n",
            "3/3 [==============================] - 0s 38ms/step - loss: 0.3053 - accuracy: 0.8358 - val_loss: 0.2356 - val_accuracy: 0.9091\n",
            "Epoch 19/100\n",
            "3/3 [==============================] - 0s 38ms/step - loss: 0.2988 - accuracy: 0.8209 - val_loss: 0.2542 - val_accuracy: 0.9091\n",
            "Epoch 20/100\n",
            "3/3 [==============================] - 0s 36ms/step - loss: 0.2939 - accuracy: 0.8209 - val_loss: 0.2692 - val_accuracy: 0.8788\n",
            "Epoch 21/100\n",
            "3/3 [==============================] - 0s 36ms/step - loss: 0.2934 - accuracy: 0.8358 - val_loss: 0.2919 - val_accuracy: 0.8485\n",
            "Epoch 22/100\n",
            "3/3 [==============================] - 0s 35ms/step - loss: 0.2881 - accuracy: 0.8358 - val_loss: 0.2779 - val_accuracy: 0.8788\n",
            "Epoch 23/100\n",
            "3/3 [==============================] - 0s 39ms/step - loss: 0.2810 - accuracy: 0.8507 - val_loss: 0.2702 - val_accuracy: 0.8788\n",
            "Epoch 24/100\n",
            "3/3 [==============================] - 0s 39ms/step - loss: 0.2767 - accuracy: 0.8507 - val_loss: 0.2592 - val_accuracy: 0.8788\n",
            "Epoch 25/100\n",
            "3/3 [==============================] - 0s 65ms/step - loss: 0.2689 - accuracy: 0.8358 - val_loss: 0.1948 - val_accuracy: 0.9091\n",
            "Epoch 26/100\n",
            "3/3 [==============================] - 0s 68ms/step - loss: 0.2697 - accuracy: 0.8358 - val_loss: 0.1652 - val_accuracy: 0.9394\n",
            "Epoch 27/100\n",
            "3/3 [==============================] - 0s 67ms/step - loss: 0.2677 - accuracy: 0.8507 - val_loss: 0.1678 - val_accuracy: 0.9394\n",
            "Epoch 28/100\n",
            "3/3 [==============================] - 0s 56ms/step - loss: 0.2641 - accuracy: 0.8507 - val_loss: 0.1726 - val_accuracy: 0.9091\n",
            "Epoch 29/100\n",
            "3/3 [==============================] - 0s 35ms/step - loss: 0.2600 - accuracy: 0.8657 - val_loss: 0.1781 - val_accuracy: 0.9091\n",
            "Epoch 30/100\n",
            "3/3 [==============================] - 0s 33ms/step - loss: 0.2557 - accuracy: 0.8657 - val_loss: 0.1896 - val_accuracy: 0.9091\n",
            "Epoch 31/100\n",
            "3/3 [==============================] - 0s 37ms/step - loss: 0.2499 - accuracy: 0.8507 - val_loss: 0.2149 - val_accuracy: 0.9091\n",
            "Epoch 32/100\n",
            "3/3 [==============================] - 0s 37ms/step - loss: 0.2474 - accuracy: 0.8507 - val_loss: 0.2765 - val_accuracy: 0.8485\n",
            "Epoch 33/100\n",
            "3/3 [==============================] - 0s 32ms/step - loss: 0.2520 - accuracy: 0.8657 - val_loss: 0.3308 - val_accuracy: 0.8182\n",
            "Epoch 34/100\n",
            "3/3 [==============================] - 0s 35ms/step - loss: 0.2538 - accuracy: 0.8657 - val_loss: 0.3409 - val_accuracy: 0.8182\n",
            "Epoch 35/100\n",
            "3/3 [==============================] - 0s 40ms/step - loss: 0.2498 - accuracy: 0.8657 - val_loss: 0.3370 - val_accuracy: 0.8485\n",
            "Epoch 36/100\n",
            "3/3 [==============================] - 0s 29ms/step - loss: 0.2457 - accuracy: 0.8657 - val_loss: 0.3386 - val_accuracy: 0.8485\n",
            "Epoch 37/100\n",
            "3/3 [==============================] - 0s 35ms/step - loss: 0.2402 - accuracy: 0.8657 - val_loss: 0.2980 - val_accuracy: 0.8788\n",
            "Epoch 38/100\n",
            "3/3 [==============================] - 0s 18ms/step - loss: 0.2287 - accuracy: 0.8806 - val_loss: 0.2222 - val_accuracy: 0.9394\n",
            "Epoch 39/100\n",
            "3/3 [==============================] - 0s 19ms/step - loss: 0.2236 - accuracy: 0.8657 - val_loss: 0.1812 - val_accuracy: 0.9394\n",
            "Epoch 40/100\n",
            "3/3 [==============================] - 0s 18ms/step - loss: 0.2267 - accuracy: 0.8955 - val_loss: 0.1625 - val_accuracy: 0.9394\n",
            "Epoch 41/100\n",
            "3/3 [==============================] - 0s 21ms/step - loss: 0.2252 - accuracy: 0.9104 - val_loss: 0.1597 - val_accuracy: 0.9394\n",
            "Epoch 42/100\n",
            "3/3 [==============================] - 0s 18ms/step - loss: 0.2194 - accuracy: 0.8955 - val_loss: 0.1706 - val_accuracy: 0.9394\n",
            "Epoch 43/100\n",
            "3/3 [==============================] - 0s 24ms/step - loss: 0.2111 - accuracy: 0.8955 - val_loss: 0.1877 - val_accuracy: 0.9394\n",
            "Epoch 44/100\n",
            "3/3 [==============================] - 0s 18ms/step - loss: 0.2074 - accuracy: 0.8806 - val_loss: 0.2417 - val_accuracy: 0.9091\n",
            "Epoch 45/100\n",
            "3/3 [==============================] - 0s 22ms/step - loss: 0.1979 - accuracy: 0.8806 - val_loss: 0.3414 - val_accuracy: 0.8485\n",
            "Epoch 46/100\n",
            "3/3 [==============================] - 0s 18ms/step - loss: 0.2187 - accuracy: 0.8955 - val_loss: 0.3373 - val_accuracy: 0.8485\n",
            "Epoch 47/100\n",
            "3/3 [==============================] - 0s 19ms/step - loss: 0.2095 - accuracy: 0.8806 - val_loss: 0.2071 - val_accuracy: 0.9394\n",
            "Epoch 48/100\n",
            "3/3 [==============================] - 0s 18ms/step - loss: 0.1883 - accuracy: 0.8955 - val_loss: 0.1581 - val_accuracy: 0.9394\n",
            "Epoch 49/100\n",
            "3/3 [==============================] - 0s 19ms/step - loss: 0.1946 - accuracy: 0.9104 - val_loss: 0.1346 - val_accuracy: 0.9394\n",
            "Epoch 50/100\n",
            "3/3 [==============================] - 0s 21ms/step - loss: 0.1915 - accuracy: 0.9403 - val_loss: 0.1399 - val_accuracy: 0.9394\n",
            "Epoch 51/100\n",
            "3/3 [==============================] - 0s 19ms/step - loss: 0.1852 - accuracy: 0.9403 - val_loss: 0.1575 - val_accuracy: 0.9394\n",
            "Epoch 52/100\n",
            "3/3 [==============================] - 0s 20ms/step - loss: 0.1773 - accuracy: 0.9104 - val_loss: 0.1486 - val_accuracy: 0.9394\n",
            "Epoch 53/100\n",
            "3/3 [==============================] - 0s 18ms/step - loss: 0.1749 - accuracy: 0.9254 - val_loss: 0.1450 - val_accuracy: 0.9394\n",
            "Epoch 54/100\n",
            "3/3 [==============================] - 0s 19ms/step - loss: 0.1699 - accuracy: 0.9254 - val_loss: 0.1641 - val_accuracy: 0.9394\n",
            "Epoch 55/100\n",
            "3/3 [==============================] - 0s 22ms/step - loss: 0.1617 - accuracy: 0.9403 - val_loss: 0.2286 - val_accuracy: 0.9091\n",
            "Epoch 56/100\n",
            "3/3 [==============================] - 0s 20ms/step - loss: 0.1600 - accuracy: 0.9254 - val_loss: 0.2974 - val_accuracy: 0.8788\n",
            "Epoch 57/100\n",
            "3/3 [==============================] - 0s 20ms/step - loss: 0.1714 - accuracy: 0.9403 - val_loss: 0.3060 - val_accuracy: 0.8485\n",
            "Epoch 58/100\n",
            "3/3 [==============================] - 0s 27ms/step - loss: 0.1561 - accuracy: 0.9403 - val_loss: 0.2015 - val_accuracy: 0.9091\n",
            "Epoch 59/100\n",
            "3/3 [==============================] - 0s 19ms/step - loss: 0.1446 - accuracy: 0.9254 - val_loss: 0.1462 - val_accuracy: 0.9394\n",
            "Epoch 60/100\n",
            "3/3 [==============================] - 0s 22ms/step - loss: 0.1485 - accuracy: 0.9254 - val_loss: 0.1187 - val_accuracy: 0.9394\n",
            "Epoch 61/100\n",
            "3/3 [==============================] - 0s 24ms/step - loss: 0.1501 - accuracy: 0.9403 - val_loss: 0.1115 - val_accuracy: 0.9394\n",
            "Epoch 62/100\n",
            "3/3 [==============================] - 0s 18ms/step - loss: 0.1476 - accuracy: 0.9403 - val_loss: 0.1160 - val_accuracy: 0.9394\n",
            "Epoch 63/100\n",
            "3/3 [==============================] - 0s 18ms/step - loss: 0.1454 - accuracy: 0.9403 - val_loss: 0.1286 - val_accuracy: 0.9394\n",
            "Epoch 64/100\n",
            "3/3 [==============================] - 0s 19ms/step - loss: 0.1413 - accuracy: 0.9403 - val_loss: 0.1255 - val_accuracy: 0.9394\n",
            "Epoch 65/100\n",
            "3/3 [==============================] - 0s 22ms/step - loss: 0.1381 - accuracy: 0.9552 - val_loss: 0.1032 - val_accuracy: 0.9394\n",
            "Epoch 66/100\n",
            "3/3 [==============================] - 0s 19ms/step - loss: 0.1379 - accuracy: 0.9403 - val_loss: 0.0986 - val_accuracy: 0.9394\n",
            "Epoch 67/100\n",
            "3/3 [==============================] - 0s 19ms/step - loss: 0.1345 - accuracy: 0.9403 - val_loss: 0.1000 - val_accuracy: 0.9394\n",
            "Epoch 68/100\n",
            "3/3 [==============================] - 0s 19ms/step - loss: 0.1303 - accuracy: 0.9403 - val_loss: 0.1074 - val_accuracy: 0.9394\n",
            "Epoch 69/100\n",
            "3/3 [==============================] - 0s 20ms/step - loss: 0.1248 - accuracy: 0.9403 - val_loss: 0.1257 - val_accuracy: 0.9394\n",
            "Epoch 70/100\n",
            "3/3 [==============================] - 0s 26ms/step - loss: 0.1202 - accuracy: 0.9403 - val_loss: 0.1626 - val_accuracy: 0.9394\n",
            "Epoch 71/100\n",
            "3/3 [==============================] - 0s 18ms/step - loss: 0.1133 - accuracy: 0.9254 - val_loss: 0.2003 - val_accuracy: 0.9091\n",
            "Epoch 72/100\n",
            "3/3 [==============================] - 0s 20ms/step - loss: 0.1138 - accuracy: 0.9403 - val_loss: 0.2338 - val_accuracy: 0.9091\n",
            "Epoch 73/100\n",
            "3/3 [==============================] - 0s 18ms/step - loss: 0.1122 - accuracy: 0.9403 - val_loss: 0.2438 - val_accuracy: 0.9091\n",
            "Epoch 74/100\n",
            "3/3 [==============================] - 0s 19ms/step - loss: 0.1115 - accuracy: 0.9552 - val_loss: 0.2442 - val_accuracy: 0.9091\n",
            "Epoch 75/100\n",
            "3/3 [==============================] - 0s 19ms/step - loss: 0.1089 - accuracy: 0.9403 - val_loss: 0.2264 - val_accuracy: 0.9091\n",
            "Epoch 76/100\n",
            "3/3 [==============================] - 0s 18ms/step - loss: 0.1057 - accuracy: 0.9403 - val_loss: 0.2293 - val_accuracy: 0.9091\n",
            "Epoch 77/100\n",
            "3/3 [==============================] - 0s 21ms/step - loss: 0.1021 - accuracy: 0.9403 - val_loss: 0.2251 - val_accuracy: 0.9091\n",
            "Epoch 78/100\n",
            "3/3 [==============================] - 0s 19ms/step - loss: 0.0996 - accuracy: 0.9552 - val_loss: 0.2336 - val_accuracy: 0.9091\n",
            "Epoch 79/100\n",
            "3/3 [==============================] - 0s 23ms/step - loss: 0.0982 - accuracy: 0.9552 - val_loss: 0.2231 - val_accuracy: 0.9091\n",
            "Epoch 80/100\n",
            "3/3 [==============================] - 0s 18ms/step - loss: 0.0966 - accuracy: 0.9403 - val_loss: 0.2159 - val_accuracy: 0.9091\n",
            "Epoch 81/100\n",
            "3/3 [==============================] - 0s 19ms/step - loss: 0.0927 - accuracy: 0.9552 - val_loss: 0.2748 - val_accuracy: 0.8788\n",
            "Epoch 82/100\n",
            "3/3 [==============================] - 0s 21ms/step - loss: 0.0987 - accuracy: 0.9552 - val_loss: 0.3417 - val_accuracy: 0.8485\n",
            "Epoch 83/100\n",
            "3/3 [==============================] - 0s 20ms/step - loss: 0.1100 - accuracy: 0.9701 - val_loss: 0.3513 - val_accuracy: 0.8485\n",
            "Epoch 84/100\n",
            "3/3 [==============================] - 0s 19ms/step - loss: 0.1079 - accuracy: 0.9701 - val_loss: 0.3058 - val_accuracy: 0.8788\n",
            "Epoch 85/100\n",
            "3/3 [==============================] - 0s 19ms/step - loss: 0.1003 - accuracy: 0.9701 - val_loss: 0.2336 - val_accuracy: 0.9091\n",
            "Epoch 86/100\n",
            "3/3 [==============================] - 0s 18ms/step - loss: 0.0847 - accuracy: 0.9552 - val_loss: 0.1875 - val_accuracy: 0.9394\n",
            "Epoch 87/100\n",
            "3/3 [==============================] - 0s 19ms/step - loss: 0.0788 - accuracy: 0.9552 - val_loss: 0.1462 - val_accuracy: 0.9394\n",
            "Epoch 88/100\n",
            "3/3 [==============================] - 0s 19ms/step - loss: 0.0738 - accuracy: 0.9552 - val_loss: 0.0959 - val_accuracy: 0.9394\n",
            "Epoch 89/100\n",
            "3/3 [==============================] - 0s 20ms/step - loss: 0.0809 - accuracy: 0.9552 - val_loss: 0.0465 - val_accuracy: 1.0000\n",
            "Epoch 90/100\n",
            "3/3 [==============================] - 0s 18ms/step - loss: 0.0937 - accuracy: 0.9552 - val_loss: 0.0354 - val_accuracy: 1.0000\n",
            "Epoch 91/100\n",
            "3/3 [==============================] - 0s 20ms/step - loss: 0.1027 - accuracy: 0.9403 - val_loss: 0.0365 - val_accuracy: 1.0000\n",
            "Epoch 92/100\n",
            "3/3 [==============================] - 0s 19ms/step - loss: 0.0933 - accuracy: 0.9552 - val_loss: 0.0589 - val_accuracy: 0.9697\n",
            "Epoch 93/100\n",
            "3/3 [==============================] - 0s 21ms/step - loss: 0.0690 - accuracy: 0.9701 - val_loss: 0.0948 - val_accuracy: 0.9394\n",
            "Epoch 94/100\n",
            "3/3 [==============================] - 0s 20ms/step - loss: 0.0640 - accuracy: 0.9701 - val_loss: 0.1434 - val_accuracy: 0.9394\n",
            "Epoch 95/100\n",
            "3/3 [==============================] - 0s 19ms/step - loss: 0.0635 - accuracy: 0.9701 - val_loss: 0.1758 - val_accuracy: 0.9394\n",
            "Epoch 96/100\n",
            "3/3 [==============================] - 0s 20ms/step - loss: 0.0664 - accuracy: 0.9701 - val_loss: 0.1843 - val_accuracy: 0.9394\n",
            "Epoch 97/100\n",
            "3/3 [==============================] - 0s 22ms/step - loss: 0.0664 - accuracy: 0.9701 - val_loss: 0.1326 - val_accuracy: 0.9394\n",
            "Epoch 98/100\n",
            "3/3 [==============================] - 0s 29ms/step - loss: 0.0543 - accuracy: 0.9851 - val_loss: 0.0561 - val_accuracy: 0.9697\n",
            "Epoch 99/100\n",
            "3/3 [==============================] - 0s 18ms/step - loss: 0.0640 - accuracy: 0.9701 - val_loss: 0.0405 - val_accuracy: 1.0000\n",
            "Epoch 100/100\n",
            "3/3 [==============================] - 0s 19ms/step - loss: 0.0657 - accuracy: 0.9701 - val_loss: 0.0480 - val_accuracy: 0.9697\n"
          ]
        },
        {
          "output_type": "execute_result",
          "data": {
            "text/plain": [
              "<keras.callbacks.History at 0x7efc6f9d8a10>"
            ]
          },
          "metadata": {},
          "execution_count": 48
        }
      ]
    },
    {
      "cell_type": "code",
      "source": [
        "plot_decision_boundary(model,X,y)"
      ],
      "metadata": {
        "colab": {
          "base_uri": "https://localhost:8080/",
          "height": 282
        },
        "id": "Vn5YYCSLYmy7",
        "outputId": "1c2e783c-02dc-4527-fa67-631ef9c51815"
      },
      "execution_count": null,
      "outputs": [
        {
          "output_type": "stream",
          "name": "stdout",
          "text": [
            "doing binary classifcation...\n"
          ]
        },
        {
          "output_type": "display_data",
          "data": {
            "image/png": "[encoded data removed]",
            "text/plain": [
              "<Figure size 432x288 with 1 Axes>"
            ]
          },
          "metadata": {
            "needs_background": "light"
          }
        }
      ]
    },
    {
      "cell_type": "code",
      "source": [
        "import numpy as np\n",
        "\n",
        "def plot_decision_boundary(model, X, y):\n",
        "  \"\"\"\n",
        "  Plots the decision boundary created by a model predicting on X.\n",
        "  This function has been adapted from two phenomenal resources:\n",
        "   1. CS231n - https://cs231n.github.io/neural-networks-case-study/\n",
        "   2. Made with ML basics - https://github.com/GokuMohandas/MadeWithML/blob/main/notebooks/08_Neural_Networks.ipynb\n",
        "  \"\"\"\n",
        "  # Define the axis boundaries of the plot and create a meshgrid\n",
        "  x_min, x_max = X[:, 0].min() - 0.1, X[:, 0].max() + 0.1\n",
        "  y_min, y_max = X[:, 1].min() - 0.1, X[:, 1].max() + 0.1\n",
        "  xx, yy = np.meshgrid(np.linspace(x_min, x_max, 100),\n",
        "                       np.linspace(y_min, y_max, 100))\n",
        "  \n",
        "  # Create X values (we're going to predict on all of these)\n",
        "  x_in = np.c_[xx.ravel(), yy.ravel()] # stack 2D arrays together: https://numpy.org/devdocs/reference/generated/numpy.c_.html\n",
        "  \n",
        "  # Make predictions using the trained model\n",
        "  y_pred = model.predict(x_in)\n",
        "\n",
        "  # Check for multi-class\n",
        "  if len(y_pred[0]) > 1:\n",
        "    print(\"doing multiclass classification...\")\n",
        "    # We have to reshape our predictions to get them ready for plotting\n",
        "    y_pred = np.argmax(y_pred, axis=1).reshape(xx.shape)\n",
        "  else:\n",
        "    print(\"doing binary classifcation...\")\n",
        "    y_pred = np.round(y_pred).reshape(xx.shape)\n",
        "  \n",
        "  # Plot decision boundary\n",
        "  plt.contourf(xx, yy, y_pred, cmap=plt.cm.RdYlBu, alpha=0.7)\n",
        "  plt.scatter(X[:, 0], X[:, 1], c=y, s=40, cmap=plt.cm.RdYlBu)\n",
        "  plt.xlim(xx.min(), xx.max())\n",
        "  plt.ylim(yy.min(), yy.max())"
      ],
      "metadata": {
        "id": "9yzPi-KGYXLz"
      },
      "execution_count": null,
      "outputs": []
    }
  ]
}